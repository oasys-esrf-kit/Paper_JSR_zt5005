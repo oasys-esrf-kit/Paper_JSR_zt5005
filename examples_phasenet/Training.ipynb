{
 "cells": [
  {
   "cell_type": "code",
   "execution_count": 35,
   "metadata": {},
   "outputs": [],
   "source": [
    "from mlcrl.phasenet.model import PhaseNet, Config, Data\n",
    "from tqdm import tqdm\n",
    "import matplotlib.pyplot as plt\n",
    "import numpy as np"
   ]
  },
  {
   "cell_type": "markdown",
   "metadata": {},
   "source": [
    "## The phasenet model can be trained using the following three steps: "
   ]
  },
  {
   "cell_type": "markdown",
   "metadata": {},
   "source": [
    "### STEP 1 : Setup the config"
   ]
  },
  {
   "cell_type": "code",
   "execution_count": 36,
   "metadata": {},
   "outputs": [
    {
     "data": {
      "text/markdown": [
       "### Configuration for phasenet models  \n",
       "\n",
       "`zernike_amplitude_ranges`:  dictionary or list, the values should either a scalar indicating the absolute magnitude\n",
       "            or a tuple with upper and lower bound, default is {'vertical coma': (-0.2,0.2)}  \n",
       "\n",
       "`zernike_order`:  string, Zernike nomenclature used when the amplitude ranges are given as a list, default is 'noll'  \n",
       "\n",
       "`zernike_normed`:  Boolean, whether the Zernike are normalized according, default is True  \n",
       "\n",
       "`net_architecture`:  convnet or resnet, default is convnet  \n",
       "\n",
       "`net_kernel_size`:  convolution kernel size, default is (3,3,3)  \n",
       "\n",
       "`net_pool_size`:  max pool kernel size, default is (1,2,2)  \n",
       "\n",
       "`net_activation`:  activation, default is 'tanh'  \n",
       "\n",
       "`net_padding`:  padding for convolution, default is 'same'  \n",
       "\n",
       "`psf_shape`:  tuple, shpae of the psf, default is (64,64,64)  \n",
       "\n",
       "`psf_units`:  tuple, voxel unit (z,y,x) in um, default is (0.1,0.1,0.1)  \n",
       "\n",
       "`psf_na_detection`:  scalar, numerical aperture default is 1.1  \n",
       "\n",
       "`psf_lam_detection`:  scalar, wavelength in um, default is 0.5  \n",
       "\n",
       "`psf_n`:  scalar, refractive index of immersion medium, default is 1.33  \n",
       "\n",
       "`noise_snr`:  scalar or tuple, signal to noise ratio  \n",
       "\n",
       "`noise_mean`:  scalar or tuple, mean background noise  \n",
       "\n",
       "`noise_sigma`:  scalar or tuple, sigma for Gaussian noise  \n",
       "\n",
       "`gaussian_blur_sigma`:  float, sigma for Gaussian blurring after adding noise, default is None  \n",
       "\n",
       "`phantom_params`:  dictionary, parameters for the chosen phantom, e.g. {'name':'sphere','radius':0.1}  \n",
       "\n",
       "`crop_shape`:  tuple, crop shape  \n",
       "\n",
       "`jitter`:  Boolean, randomly move the center point within a given limit, default is False  \n",
       "\n",
       "`max_jitter`:  tuple, maximum displacement for jitter, if None then it gets a default value  \n",
       "\n",
       "`train_loss`:  string, training loss, default is 'mse'  \n",
       "\n",
       "`train_epochs`:  integer, number of epochs for training, default is 400  \n",
       "\n",
       "`train_steps_per_epoch`:  integer, number of steps per epoch, default is 5  \n",
       "\n",
       "`train_learning_rate`:  scalar, leaning rate, default is 0.0003  \n",
       "\n",
       "`train_batch_size`:  integer, batch size for training the network, default is 8  \n",
       "\n",
       "`train_n_val`:  integer, number of validation data, default is 128  \n",
       "\n",
       "`train_tensorboard`:  boolean, create tensor-board, default is True  \n",
       "\n",
       "`planes`:  list, z planes with respect to center, if None then it takes all the planes\n",
       "\n",
       "    "
      ],
      "text/plain": [
       "<IPython.core.display.Markdown object>"
      ]
     },
     "metadata": {},
     "output_type": "display_data"
    }
   ],
   "source": [
    "from IPython.display import Markdown\n",
    "import re\n",
    "hlp = '### ' + Config.__doc__\n",
    "def _replace(s):\n",
    "    return f\"  \\n\\n`{s.group(1).strip()}`: \"\n",
    "hlp = re.sub(r'\\n\\s*:param([^:]+):', _replace, hlp)\n",
    "display(Markdown(hlp))"
   ]
  },
  {
   "cell_type": "markdown",
   "metadata": {},
   "source": [
    "### Important parameters\n",
    "\n",
    "- Please set the Zernike modes for your application (i.e. which modes in what ranges should the neural network be able to predict) by changing the parameter `zernike_amplitude_ranges`. Please modify `zernike_order` if the Zernikes are not provided in Noll index.\n",
    "\n",
    "- It is also important to set the PSF parameters (`psf_lam_detection`, `psf_units`, `psf_na_detection`, `psf_n`) to match the physical properties of the microscope being used.\n",
    "\n",
    "- It is also advisable to set the noise characteristics (`noise_mean`, `noise_sigma`, `noise_snr`) and phantom parameters (`phantom_params`) to match your image acquisition setup.\n",
    "\n",
    "- The training and network parameters (`train_*`, `net_*`) likely don't have to be changed."
   ]
  },
  {
   "cell_type": "code",
   "execution_count": 37,
   "metadata": {},
   "outputs": [],
   "source": [
    "#zern = [5,6,7,8,9,10,11,12,13,14,15] # for final training\n",
    "zern = [5]                            # for trial\n",
    "amp_range = [0.15]*len(zern)\n",
    "amps = dict(zip(zern, amp_range))"
   ]
  },
  {
   "cell_type": "code",
   "execution_count": 38,
   "metadata": {},
   "outputs": [
    {
     "name": "stdout",
     "output_type": "stream",
     "text": [
      ">>> {5: 0.15} dict_values([0.15]) dict_items([(5, 0.15)])\n"
     ]
    },
    {
     "data": {
      "text/plain": [
       "{'n_dim': 3,\n",
       " 'axes': 'ZYXC',\n",
       " 'n_channel_in': 1,\n",
       " 'n_channel_out': 1,\n",
       " 'train_checkpoint': 'weights_best.h5',\n",
       " 'train_checkpoint_last': 'weights_last.h5',\n",
       " 'train_checkpoint_epoch': 'weights_now.h5',\n",
       " 'zernike_amplitude_ranges': {5: 0.15},\n",
       " 'zernike_order': 'noll',\n",
       " 'zernike_normed': True,\n",
       " 'net_architecture': 'convnet',\n",
       " 'net_kernel_size': (3, 3, 3),\n",
       " 'net_pool_size': (1, 2, 2),\n",
       " 'net_activation': 'tanh',\n",
       " 'net_padding': 'same',\n",
       " 'psf_shape': (64, 64, 64),\n",
       " 'psf_units': (0.1, 0.086, 0.086),\n",
       " 'psf_na_detection': 1.1,\n",
       " 'psf_lam_detection': 0.515,\n",
       " 'psf_n': 1.33,\n",
       " 'noise_mean': None,\n",
       " 'noise_sigma': None,\n",
       " 'noise_snr': None,\n",
       " 'noise_perlin_flag': False,\n",
       " 'gaussian_blur_sigma': None,\n",
       " 'phantom_params': {'name': 'points', 'num': 1},\n",
       " 'crop_shape': (32, 32, 32),\n",
       " 'jitter': True,\n",
       " 'max_jitter': None,\n",
       " 'planes': None,\n",
       " 'train_loss': 'mse',\n",
       " 'train_epochs': 400,\n",
       " 'train_steps_per_epoch': 5,\n",
       " 'train_learning_rate': 0.0003,\n",
       " 'train_batch_size': 8,\n",
       " 'train_n_val': 128,\n",
       " 'train_tensorboard': True}"
      ]
     },
     "execution_count": 38,
     "metadata": {},
     "output_type": "execute_result"
    }
   ],
   "source": [
    "c = Config(zernike_amplitude_ranges=amps, psf_na_detection=1.1, psf_units=(0.1,0.086,0.086), psf_n=1.33, psf_lam_detection=0.515, noise_mean=None, noise_snr=None, noise_sigma=None)\n",
    "vars(c)"
   ]
  },
  {
   "cell_type": "markdown",
   "metadata": {},
   "source": [
    "## STEP 2 : Setup the model"
   ]
  },
  {
   "cell_type": "code",
   "execution_count": 39,
   "metadata": {},
   "outputs": [],
   "source": [
    "model = PhaseNet(config=c, name='test', basedir='models')"
   ]
  },
  {
   "cell_type": "markdown",
   "metadata": {},
   "source": [
    "## STEP 3: Train the model"
   ]
  },
  {
   "cell_type": "markdown",
   "metadata": {},
   "source": [
    "**Note**: We only set `epochs=20` here for a quick demo. Remove that to train the model properly (will take much longer)."
   ]
  },
  {
   "cell_type": "code",
   "execution_count": 30,
   "metadata": {
    "scrolled": true
   },
   "outputs": [
    {
     "name": "stdout",
     "output_type": "stream",
     "text": [
      ">>> {5: 0.15} dict_values([0.15]) dict_items([(5, 0.15)])\n",
      ">>> {5: 0.15} dict_values([0.15]) dict_items([(5, 0.15)])\n",
      ">>> {5: 0.15} dict_values([0.15]) dict_items([(5, 0.15)])\n",
      ">>> {5: 0.15} dict_values([0.15]) dict_items([(5, 0.15)])\n",
      ">>> {5: 0.15} dict_values([0.15]) dict_items([(5, 0.15)])\n",
      ">>> {5: 0.15} dict_values([0.15]) dict_items([(5, 0.15)])\n",
      ">>> {5: 0.15} dict_values([0.15]) dict_items([(5, 0.15)])\n",
      ">>> {5: 0.15} dict_values([0.15]) dict_items([(5, 0.15)])\n",
      ">>> {5: 0.15} dict_values([0.15]) dict_items([(5, 0.15)])\n",
      ">>> {5: 0.15} dict_values([0.15]) dict_items([(5, 0.15)])\n",
      ">>> {5: 0.15} dict_values([0.15]) dict_items([(5, 0.15)])\n",
      ">>> {5: 0.15} dict_values([0.15]) dict_items([(5, 0.15)])\n",
      ">>> {5: 0.15} dict_values([0.15]) dict_items([(5, 0.15)])\n",
      ">>> {5: 0.15} dict_values([0.15]) dict_items([(5, 0.15)])\n",
      ">>> {5: 0.15} dict_values([0.15]) dict_items([(5, 0.15)])\n",
      ">>> {5: 0.15} dict_values([0.15]) dict_items([(5, 0.15)])\n",
      ">>> {5: 0.15} dict_values([0.15]) dict_items([(5, 0.15)])\n",
      ">>> {5: 0.15} dict_values([0.15]) dict_items([(5, 0.15)])\n",
      ">>> {5: 0.15} dict_values([0.15]) dict_items([(5, 0.15)])\n",
      ">>> {5: 0.15} dict_values([0.15]) dict_items([(5, 0.15)])\n",
      ">>> {5: 0.15} dict_values([0.15]) dict_items([(5, 0.15)])\n",
      ">>> {5: 0.15} dict_values([0.15]) dict_items([(5, 0.15)])\n",
      ">>> {5: 0.15} dict_values([0.15]) dict_items([(5, 0.15)])\n",
      ">>> {5: 0.15} dict_values([0.15]) dict_items([(5, 0.15)])\n",
      ">>> {5: 0.15} dict_values([0.15]) dict_items([(5, 0.15)])\n",
      ">>> {5: 0.15} dict_values([0.15]) dict_items([(5, 0.15)])\n",
      ">>> {5: 0.15} dict_values([0.15]) dict_items([(5, 0.15)])\n",
      ">>> {5: 0.15} dict_values([0.15]) dict_items([(5, 0.15)])\n",
      ">>> {5: 0.15} dict_values([0.15]) dict_items([(5, 0.15)])\n",
      ">>> {5: 0.15} dict_values([0.15]) dict_items([(5, 0.15)])\n",
      ">>> {5: 0.15} dict_values([0.15]) dict_items([(5, 0.15)])\n",
      ">>> {5: 0.15} dict_values([0.15]) dict_items([(5, 0.15)])\n",
      ">>> {5: 0.15} dict_values([0.15]) dict_items([(5, 0.15)])\n",
      ">>> {5: 0.15} dict_values([0.15]) dict_items([(5, 0.15)])\n",
      ">>> {5: 0.15} dict_values([0.15]) dict_items([(5, 0.15)])\n",
      ">>> {5: 0.15} dict_values([0.15]) dict_items([(5, 0.15)])\n",
      ">>> {5: 0.15} dict_values([0.15]) dict_items([(5, 0.15)])\n",
      ">>> {5: 0.15} dict_values([0.15]) dict_items([(5, 0.15)])\n",
      ">>> {5: 0.15} dict_values([0.15]) dict_items([(5, 0.15)])\n",
      ">>> {5: 0.15} dict_values([0.15]) dict_items([(5, 0.15)])\n",
      ">>> {5: 0.15} dict_values([0.15]) dict_items([(5, 0.15)])\n",
      ">>> {5: 0.15} dict_values([0.15]) dict_items([(5, 0.15)])\n",
      ">>> {5: 0.15} dict_values([0.15]) dict_items([(5, 0.15)])\n",
      ">>> {5: 0.15} dict_values([0.15]) dict_items([(5, 0.15)])\n",
      ">>> {5: 0.15} dict_values([0.15]) dict_items([(5, 0.15)])\n",
      ">>> {5: 0.15} dict_values([0.15]) dict_items([(5, 0.15)])\n",
      ">>> {5: 0.15} dict_values([0.15]) dict_items([(5, 0.15)])\n",
      ">>> {5: 0.15} dict_values([0.15]) dict_items([(5, 0.15)])\n",
      ">>> {5: 0.15} dict_values([0.15]) dict_items([(5, 0.15)])\n",
      ">>> {5: 0.15} dict_values([0.15]) dict_items([(5, 0.15)])\n",
      ">>> {5: 0.15} dict_values([0.15]) dict_items([(5, 0.15)])\n",
      ">>> {5: 0.15} dict_values([0.15]) dict_items([(5, 0.15)])\n",
      ">>> {5: 0.15} dict_values([0.15]) dict_items([(5, 0.15)])\n",
      ">>> {5: 0.15} dict_values([0.15]) dict_items([(5, 0.15)])\n",
      ">>> {5: 0.15} dict_values([0.15]) dict_items([(5, 0.15)])\n",
      ">>> {5: 0.15} dict_values([0.15]) dict_items([(5, 0.15)])\n",
      ">>> {5: 0.15} dict_values([0.15]) dict_items([(5, 0.15)])\n",
      ">>> {5: 0.15} dict_values([0.15]) dict_items([(5, 0.15)])\n",
      ">>> {5: 0.15} dict_values([0.15]) dict_items([(5, 0.15)])\n",
      ">>> {5: 0.15} dict_values([0.15]) dict_items([(5, 0.15)])\n",
      ">>> {5: 0.15} dict_values([0.15]) dict_items([(5, 0.15)])\n",
      ">>> {5: 0.15} dict_values([0.15]) dict_items([(5, 0.15)])\n",
      ">>> {5: 0.15} dict_values([0.15]) dict_items([(5, 0.15)])\n",
      ">>> {5: 0.15} dict_values([0.15]) dict_items([(5, 0.15)])\n",
      ">>> {5: 0.15} dict_values([0.15]) dict_items([(5, 0.15)])\n",
      ">>> {5: 0.15} dict_values([0.15]) dict_items([(5, 0.15)])\n",
      ">>> {5: 0.15} dict_values([0.15]) dict_items([(5, 0.15)])\n",
      ">>> {5: 0.15} dict_values([0.15]) dict_items([(5, 0.15)])\n",
      ">>> {5: 0.15} dict_values([0.15]) dict_items([(5, 0.15)])\n",
      ">>> {5: 0.15} dict_values([0.15]) dict_items([(5, 0.15)])\n",
      ">>> {5: 0.15} dict_values([0.15]) dict_items([(5, 0.15)])\n",
      ">>> {5: 0.15} dict_values([0.15]) dict_items([(5, 0.15)])\n",
      ">>> {5: 0.15} dict_values([0.15]) dict_items([(5, 0.15)])\n",
      ">>> {5: 0.15} dict_values([0.15]) dict_items([(5, 0.15)])\n",
      ">>> {5: 0.15} dict_values([0.15]) dict_items([(5, 0.15)])\n",
      ">>> {5: 0.15} dict_values([0.15]) dict_items([(5, 0.15)])\n",
      ">>> {5: 0.15} dict_values([0.15]) dict_items([(5, 0.15)])\n",
      ">>> {5: 0.15} dict_values([0.15]) dict_items([(5, 0.15)])\n",
      ">>> {5: 0.15} dict_values([0.15]) dict_items([(5, 0.15)])\n",
      ">>> {5: 0.15} dict_values([0.15]) dict_items([(5, 0.15)])\n",
      ">>> {5: 0.15} dict_values([0.15]) dict_items([(5, 0.15)])\n",
      ">>> {5: 0.15} dict_values([0.15]) dict_items([(5, 0.15)])\n",
      ">>> {5: 0.15} dict_values([0.15]) dict_items([(5, 0.15)])\n",
      ">>> {5: 0.15} dict_values([0.15]) dict_items([(5, 0.15)])\n",
      ">>> {5: 0.15} dict_values([0.15]) dict_items([(5, 0.15)])\n",
      ">>> {5: 0.15} dict_values([0.15]) dict_items([(5, 0.15)])\n",
      ">>> {5: 0.15} dict_values([0.15]) dict_items([(5, 0.15)])\n",
      ">>> {5: 0.15} dict_values([0.15]) dict_items([(5, 0.15)])\n",
      ">>> {5: 0.15} dict_values([0.15]) dict_items([(5, 0.15)])\n",
      ">>> {5: 0.15} dict_values([0.15]) dict_items([(5, 0.15)])\n",
      ">>> {5: 0.15} dict_values([0.15]) dict_items([(5, 0.15)])\n",
      ">>> {5: 0.15} dict_values([0.15]) dict_items([(5, 0.15)])\n",
      ">>> {5: 0.15} dict_values([0.15]) dict_items([(5, 0.15)])\n",
      ">>> {5: 0.15} dict_values([0.15]) dict_items([(5, 0.15)])\n",
      ">>> {5: 0.15} dict_values([0.15]) dict_items([(5, 0.15)])\n",
      ">>> {5: 0.15} dict_values([0.15]) dict_items([(5, 0.15)])\n",
      ">>> {5: 0.15} dict_values([0.15]) dict_items([(5, 0.15)])\n",
      ">>> {5: 0.15} dict_values([0.15]) dict_items([(5, 0.15)])\n",
      ">>> {5: 0.15} dict_values([0.15]) dict_items([(5, 0.15)])\n",
      ">>> {5: 0.15} dict_values([0.15]) dict_items([(5, 0.15)])\n",
      ">>> {5: 0.15} dict_values([0.15]) dict_items([(5, 0.15)])\n",
      ">>> {5: 0.15} dict_values([0.15]) dict_items([(5, 0.15)])\n",
      ">>> {5: 0.15} dict_values([0.15]) dict_items([(5, 0.15)])\n",
      ">>> {5: 0.15} dict_values([0.15]) dict_items([(5, 0.15)])\n",
      ">>> {5: 0.15} dict_values([0.15]) dict_items([(5, 0.15)])\n",
      ">>> {5: 0.15} dict_values([0.15]) dict_items([(5, 0.15)])\n",
      ">>> {5: 0.15} dict_values([0.15]) dict_items([(5, 0.15)])\n",
      ">>> {5: 0.15} dict_values([0.15]) dict_items([(5, 0.15)])\n",
      ">>> {5: 0.15} dict_values([0.15]) dict_items([(5, 0.15)])\n",
      ">>> {5: 0.15} dict_values([0.15]) dict_items([(5, 0.15)])\n",
      ">>> {5: 0.15} dict_values([0.15]) dict_items([(5, 0.15)])\n",
      ">>> {5: 0.15} dict_values([0.15]) dict_items([(5, 0.15)])\n",
      ">>> {5: 0.15} dict_values([0.15]) dict_items([(5, 0.15)])\n",
      ">>> {5: 0.15} dict_values([0.15]) dict_items([(5, 0.15)])\n",
      ">>> {5: 0.15} dict_values([0.15]) dict_items([(5, 0.15)])\n",
      ">>> {5: 0.15} dict_values([0.15]) dict_items([(5, 0.15)])\n",
      ">>> {5: 0.15} dict_values([0.15]) dict_items([(5, 0.15)])\n",
      ">>> {5: 0.15} dict_values([0.15]) dict_items([(5, 0.15)])\n",
      ">>> {5: 0.15} dict_values([0.15]) dict_items([(5, 0.15)])\n",
      ">>> {5: 0.15} dict_values([0.15]) dict_items([(5, 0.15)])\n",
      ">>> {5: 0.15} dict_values([0.15]) dict_items([(5, 0.15)])\n",
      ">>> {5: 0.15} dict_values([0.15]) dict_items([(5, 0.15)])\n",
      ">>> {5: 0.15} dict_values([0.15]) dict_items([(5, 0.15)])\n",
      ">>> {5: 0.15} dict_values([0.15]) dict_items([(5, 0.15)])\n",
      ">>> {5: 0.15} dict_values([0.15]) dict_items([(5, 0.15)])\n",
      ">>> {5: 0.15} dict_values([0.15]) dict_items([(5, 0.15)])\n",
      ">>> {5: 0.15} dict_values([0.15]) dict_items([(5, 0.15)])\n",
      ">>> {5: 0.15} dict_values([0.15]) dict_items([(5, 0.15)])\n",
      ">>> {5: 0.15} dict_values([0.15]) dict_items([(5, 0.15)])\n",
      ">>> {5: 0.15} dict_values([0.15]) dict_items([(5, 0.15)])\n",
      ">>> {5: 0.15} dict_values([0.15]) dict_items([(5, 0.15)])\n",
      ">>> {5: 0.15} dict_values([0.15]) dict_items([(5, 0.15)])\n",
      ">>> {5: 0.15} dict_values([0.15]) dict_items([(5, 0.15)])\n",
      ">>> {5: 0.15} dict_values([0.15]) dict_items([(5, 0.15)])\n",
      ">>> {5: 0.15} dict_values([0.15]) dict_items([(5, 0.15)])\n",
      ">>> {5: 0.15} dict_values([0.15]) dict_items([(5, 0.15)])\n",
      "Epoch 1/20\n",
      ">>> {5: 0.15} dict_values([0.15]) dict_items([(5, 0.15)])\n",
      ">>> {5: 0.15} dict_values([0.15]) dict_items([(5, 0.15)])\n",
      ">>> {5: 0.15} dict_values([0.15]) dict_items([(5, 0.15)])\n",
      ">>> {5: 0.15} dict_values([0.15]) dict_items([(5, 0.15)])\n",
      ">>> {5: 0.15} dict_values([0.15]) dict_items([(5, 0.15)])\n",
      ">>> {5: 0.15} dict_values([0.15]) dict_items([(5, 0.15)])\n"
     ]
    },
    {
     "name": "stdout",
     "output_type": "stream",
     "text": [
      ">>> {5: 0.15} dict_values([0.15]) dict_items([(5, 0.15)])\n",
      "1/5 [=====>........................] - ETA: 6s - loss: 0.0042>>> {5: 0.15} dict_values([0.15]) dict_items([(5, 0.15)])\n",
      ">>> {5: 0.15} dict_values([0.15]) dict_items([(5, 0.15)])\n",
      ">>> {5: 0.15} dict_values([0.15]) dict_items([(5, 0.15)])\n",
      ">>> {5: 0.15} dict_values([0.15]) dict_items([(5, 0.15)])\n",
      ">>> {5: 0.15} dict_values([0.15]) dict_items([(5, 0.15)])\n",
      ">>> {5: 0.15} dict_values([0.15]) dict_items([(5, 0.15)])\n",
      ">>> {5: 0.15} dict_values([0.15]) dict_items([(5, 0.15)])\n",
      ">>> {5: 0.15} dict_values([0.15]) dict_items([(5, 0.15)])\n",
      ">>> {5: 0.15} dict_values([0.15]) dict_items([(5, 0.15)])\n",
      "2/5 [===========>..................] - ETA: 3s - loss: 0.0257>>> {5: 0.15} dict_values([0.15]) dict_items([(5, 0.15)])\n",
      ">>> {5: 0.15} dict_values([0.15]) dict_items([(5, 0.15)])\n",
      ">>> {5: 0.15} dict_values([0.15]) dict_items([(5, 0.15)])\n",
      ">>> {5: 0.15} dict_values([0.15]) dict_items([(5, 0.15)])\n",
      ">>> {5: 0.15} dict_values([0.15]) dict_items([(5, 0.15)])\n",
      ">>> {5: 0.15} dict_values([0.15]) dict_items([(5, 0.15)])\n",
      ">>> {5: 0.15} dict_values([0.15]) dict_items([(5, 0.15)])\n",
      ">>> {5: 0.15} dict_values([0.15]) dict_items([(5, 0.15)])\n",
      "3/5 [=================>............] - ETA: 1s - loss: 0.0193>>> {5: 0.15} dict_values([0.15]) dict_items([(5, 0.15)])\n",
      ">>> {5: 0.15} dict_values([0.15]) dict_items([(5, 0.15)])\n",
      ">>> {5: 0.15} dict_values([0.15]) dict_items([(5, 0.15)])\n",
      ">>> {5: 0.15} dict_values([0.15]) dict_items([(5, 0.15)])\n",
      ">>> {5: 0.15} dict_values([0.15]) dict_items([(5, 0.15)])\n",
      ">>> {5: 0.15} dict_values([0.15]) dict_items([(5, 0.15)])\n",
      ">>> {5: 0.15} dict_values([0.15]) dict_items([(5, 0.15)])\n",
      "4/5 [=======================>......] - ETA: 0s - loss: 0.0154>>> {5: 0.15} dict_values([0.15]) dict_items([(5, 0.15)])\n",
      ">>> {5: 0.15} dict_values([0.15]) dict_items([(5, 0.15)])\n",
      ">>> {5: 0.15} dict_values([0.15]) dict_items([(5, 0.15)])\n",
      ">>> {5: 0.15} dict_values([0.15]) dict_items([(5, 0.15)])\n",
      ">>> {5: 0.15} dict_values([0.15]) dict_items([(5, 0.15)])\n",
      ">>> {5: 0.15} dict_values([0.15]) dict_items([(5, 0.15)])\n",
      ">>> {5: 0.15} dict_values([0.15]) dict_items([(5, 0.15)])\n",
      ">>> {5: 0.15} dict_values([0.15]) dict_items([(5, 0.15)])\n",
      ">>> {5: 0.15} dict_values([0.15]) dict_items([(5, 0.15)])\n",
      "5/5 [==============================] - 7s 1s/step - loss: 0.0138 - val_loss: 0.0066\n",
      "Epoch 2/20\n",
      ">>> {5: 0.15} dict_values([0.15]) dict_items([(5, 0.15)])\n",
      ">>> {5: 0.15} dict_values([0.15]) dict_items([(5, 0.15)])\n",
      ">>> {5: 0.15} dict_values([0.15]) dict_items([(5, 0.15)])\n",
      ">>> {5: 0.15} dict_values([0.15]) dict_items([(5, 0.15)])\n",
      ">>> {5: 0.15} dict_values([0.15]) dict_items([(5, 0.15)])\n",
      ">>> {5: 0.15} dict_values([0.15]) dict_items([(5, 0.15)])\n",
      ">>> {5: 0.15} dict_values([0.15]) dict_items([(5, 0.15)])\n",
      ">>> {5: 0.15} dict_values([0.15]) dict_items([(5, 0.15)])\n",
      "1/5 [=====>........................] - ETA: 3s - loss: 0.0085>>> {5: 0.15} dict_values([0.15]) dict_items([(5, 0.15)])\n",
      ">>> {5: 0.15} dict_values([0.15]) dict_items([(5, 0.15)])\n",
      ">>> {5: 0.15} dict_values([0.15]) dict_items([(5, 0.15)])\n",
      ">>> {5: 0.15} dict_values([0.15]) dict_items([(5, 0.15)])\n",
      ">>> {5: 0.15} dict_values([0.15]) dict_items([(5, 0.15)])\n",
      ">>> {5: 0.15} dict_values([0.15]) dict_items([(5, 0.15)])\n",
      ">>> {5: 0.15} dict_values([0.15]) dict_items([(5, 0.15)])\n",
      ">>> {5: 0.15} dict_values([0.15]) dict_items([(5, 0.15)])\n",
      "2/5 [===========>..................] - ETA: 2s - loss: 0.0065>>> {5: 0.15} dict_values([0.15]) dict_items([(5, 0.15)])\n",
      ">>> {5: 0.15} dict_values([0.15]) dict_items([(5, 0.15)])\n",
      ">>> {5: 0.15} dict_values([0.15]) dict_items([(5, 0.15)])\n",
      ">>> {5: 0.15} dict_values([0.15]) dict_items([(5, 0.15)])\n",
      ">>> {5: 0.15} dict_values([0.15]) dict_items([(5, 0.15)])\n",
      ">>> {5: 0.15} dict_values([0.15]) dict_items([(5, 0.15)])\n",
      ">>> {5: 0.15} dict_values([0.15]) dict_items([(5, 0.15)])\n",
      "3/5 [=================>............] - ETA: 1s - loss: 0.0057>>> {5: 0.15} dict_values([0.15]) dict_items([(5, 0.15)])\n",
      ">>> {5: 0.15} dict_values([0.15]) dict_items([(5, 0.15)])\n",
      ">>> {5: 0.15} dict_values([0.15]) dict_items([(5, 0.15)])\n",
      ">>> {5: 0.15} dict_values([0.15]) dict_items([(5, 0.15)])\n",
      ">>> {5: 0.15} dict_values([0.15]) dict_items([(5, 0.15)])\n",
      ">>> {5: 0.15} dict_values([0.15]) dict_items([(5, 0.15)])\n",
      ">>> {5: 0.15} dict_values([0.15]) dict_items([(5, 0.15)])\n",
      ">>> {5: 0.15} dict_values([0.15]) dict_items([(5, 0.15)])\n",
      ">>> {5: 0.15} dict_values([0.15]) dict_items([(5, 0.15)])\n",
      "4/5 [=======================>......] - ETA: 0s - loss: 0.0050>>> {5: 0.15} dict_values([0.15]) dict_items([(5, 0.15)])\n",
      ">>> {5: 0.15} dict_values([0.15]) dict_items([(5, 0.15)])\n",
      ">>> {5: 0.15} dict_values([0.15]) dict_items([(5, 0.15)])\n",
      ">>> {5: 0.15} dict_values([0.15]) dict_items([(5, 0.15)])\n",
      ">>> {5: 0.15} dict_values([0.15]) dict_items([(5, 0.15)])\n",
      ">>> {5: 0.15} dict_values([0.15]) dict_items([(5, 0.15)])\n",
      ">>> {5: 0.15} dict_values([0.15]) dict_items([(5, 0.15)])\n",
      ">>> {5: 0.15} dict_values([0.15]) dict_items([(5, 0.15)])\n",
      "5/5 [==============================] - 6s 1s/step - loss: 0.0054 - val_loss: 0.0056\n",
      "Epoch 3/20\n",
      ">>> {5: 0.15} dict_values([0.15]) dict_items([(5, 0.15)])\n",
      ">>> {5: 0.15} dict_values([0.15]) dict_items([(5, 0.15)])\n",
      ">>> {5: 0.15} dict_values([0.15]) dict_items([(5, 0.15)])\n",
      ">>> {5: 0.15} dict_values([0.15]) dict_items([(5, 0.15)])\n",
      ">>> {5: 0.15} dict_values([0.15]) dict_items([(5, 0.15)])\n",
      ">>> {5: 0.15} dict_values([0.15]) dict_items([(5, 0.15)])\n",
      ">>> {5: 0.15} dict_values([0.15]) dict_items([(5, 0.15)])\n",
      ">>> {5: 0.15} dict_values([0.15]) dict_items([(5, 0.15)])\n",
      "1/5 [=====>........................] - ETA: 3s - loss: 0.0096>>> {5: 0.15} dict_values([0.15]) dict_items([(5, 0.15)])\n",
      ">>> {5: 0.15} dict_values([0.15]) dict_items([(5, 0.15)])\n",
      ">>> {5: 0.15} dict_values([0.15]) dict_items([(5, 0.15)])\n",
      ">>> {5: 0.15} dict_values([0.15]) dict_items([(5, 0.15)])\n",
      ">>> {5: 0.15} dict_values([0.15]) dict_items([(5, 0.15)])\n",
      ">>> {5: 0.15} dict_values([0.15]) dict_items([(5, 0.15)])\n",
      ">>> {5: 0.15} dict_values([0.15]) dict_items([(5, 0.15)])\n",
      ">>> {5: 0.15} dict_values([0.15]) dict_items([(5, 0.15)])\n",
      "2/5 [===========>..................] - ETA: 2s - loss: 0.0062>>> {5: 0.15} dict_values([0.15]) dict_items([(5, 0.15)])\n",
      ">>> {5: 0.15} dict_values([0.15]) dict_items([(5, 0.15)])\n",
      ">>> {5: 0.15} dict_values([0.15]) dict_items([(5, 0.15)])\n",
      ">>> {5: 0.15} dict_values([0.15]) dict_items([(5, 0.15)])\n",
      ">>> {5: 0.15} dict_values([0.15]) dict_items([(5, 0.15)])\n",
      ">>> {5: 0.15} dict_values([0.15]) dict_items([(5, 0.15)])\n",
      ">>> {5: 0.15} dict_values([0.15]) dict_items([(5, 0.15)])\n",
      ">>> {5: 0.15} dict_values([0.15]) dict_items([(5, 0.15)])\n",
      "3/5 [=================>............] - ETA: 1s - loss: 0.0051>>> {5: 0.15} dict_values([0.15]) dict_items([(5, 0.15)])\n",
      ">>> {5: 0.15} dict_values([0.15]) dict_items([(5, 0.15)])\n",
      ">>> {5: 0.15} dict_values([0.15]) dict_items([(5, 0.15)])\n",
      ">>> {5: 0.15} dict_values([0.15]) dict_items([(5, 0.15)])\n",
      ">>> {5: 0.15} dict_values([0.15]) dict_items([(5, 0.15)])\n",
      ">>> {5: 0.15} dict_values([0.15]) dict_items([(5, 0.15)])\n",
      ">>> {5: 0.15} dict_values([0.15]) dict_items([(5, 0.15)])\n",
      ">>> {5: 0.15} dict_values([0.15]) dict_items([(5, 0.15)])\n",
      "4/5 [=======================>......] - ETA: 0s - loss: 0.0046>>> {5: 0.15} dict_values([0.15]) dict_items([(5, 0.15)])\n",
      ">>> {5: 0.15} dict_values([0.15]) dict_items([(5, 0.15)])\n",
      ">>> {5: 0.15} dict_values([0.15]) dict_items([(5, 0.15)])\n",
      ">>> {5: 0.15} dict_values([0.15]) dict_items([(5, 0.15)])\n",
      ">>> {5: 0.15} dict_values([0.15]) dict_items([(5, 0.15)])\n",
      ">>> {5: 0.15} dict_values([0.15]) dict_items([(5, 0.15)])\n",
      ">>> {5: 0.15} dict_values([0.15]) dict_items([(5, 0.15)])\n",
      ">>> {5: 0.15} dict_values([0.15]) dict_items([(5, 0.15)])\n",
      "5/5 [==============================] - 6s 1s/step - loss: 0.0044 - val_loss: 0.0022\n",
      "Epoch 4/20\n",
      ">>> {5: 0.15} dict_values([0.15]) dict_items([(5, 0.15)])\n",
      ">>> {5: 0.15} dict_values([0.15]) dict_items([(5, 0.15)])\n",
      ">>> {5: 0.15} dict_values([0.15]) dict_items([(5, 0.15)])\n",
      ">>> {5: 0.15} dict_values([0.15]) dict_items([(5, 0.15)])\n",
      ">>> {5: 0.15} dict_values([0.15]) dict_items([(5, 0.15)])\n",
      ">>> {5: 0.15} dict_values([0.15]) dict_items([(5, 0.15)])\n",
      ">>> {5: 0.15} dict_values([0.15]) dict_items([(5, 0.15)])\n",
      ">>> {5: 0.15} dict_values([0.15]) dict_items([(5, 0.15)])\n",
      "1/5 [=====>........................] - ETA: 4s - loss: 0.0021>>> {5: 0.15} dict_values([0.15]) dict_items([(5, 0.15)])\n"
     ]
    },
    {
     "name": "stdout",
     "output_type": "stream",
     "text": [
      ">>> {5: 0.15} dict_values([0.15]) dict_items([(5, 0.15)])\n",
      ">>> {5: 0.15} dict_values([0.15]) dict_items([(5, 0.15)])\n",
      ">>> {5: 0.15} dict_values([0.15]) dict_items([(5, 0.15)])\n",
      ">>> {5: 0.15} dict_values([0.15]) dict_items([(5, 0.15)])\n",
      ">>> {5: 0.15} dict_values([0.15]) dict_items([(5, 0.15)])\n",
      ">>> {5: 0.15} dict_values([0.15]) dict_items([(5, 0.15)])\n",
      ">>> {5: 0.15} dict_values([0.15]) dict_items([(5, 0.15)])\n",
      "2/5 [===========>..................] - ETA: 3s - loss: 0.0011>>> {5: 0.15} dict_values([0.15]) dict_items([(5, 0.15)])\n",
      ">>> {5: 0.15} dict_values([0.15]) dict_items([(5, 0.15)])\n",
      ">>> {5: 0.15} dict_values([0.15]) dict_items([(5, 0.15)])\n",
      ">>> {5: 0.15} dict_values([0.15]) dict_items([(5, 0.15)])\n",
      ">>> {5: 0.15} dict_values([0.15]) dict_items([(5, 0.15)])\n",
      ">>> {5: 0.15} dict_values([0.15]) dict_items([(5, 0.15)])\n",
      ">>> {5: 0.15} dict_values([0.15]) dict_items([(5, 0.15)])\n",
      ">>> {5: 0.15} dict_values([0.15]) dict_items([(5, 0.15)])\n",
      "3/5 [=================>............] - ETA: 2s - loss: 0.0011>>> {5: 0.15} dict_values([0.15]) dict_items([(5, 0.15)])\n",
      ">>> {5: 0.15} dict_values([0.15]) dict_items([(5, 0.15)])\n",
      ">>> {5: 0.15} dict_values([0.15]) dict_items([(5, 0.15)])\n",
      ">>> {5: 0.15} dict_values([0.15]) dict_items([(5, 0.15)])\n",
      ">>> {5: 0.15} dict_values([0.15]) dict_items([(5, 0.15)])\n",
      ">>> {5: 0.15} dict_values([0.15]) dict_items([(5, 0.15)])\n",
      "4/5 [=======================>......] - ETA: 1s - loss: 0.0010>>> {5: 0.15} dict_values([0.15]) dict_items([(5, 0.15)])\n",
      ">>> {5: 0.15} dict_values([0.15]) dict_items([(5, 0.15)])\n",
      ">>> {5: 0.15} dict_values([0.15]) dict_items([(5, 0.15)])\n",
      ">>> {5: 0.15} dict_values([0.15]) dict_items([(5, 0.15)])\n",
      ">>> {5: 0.15} dict_values([0.15]) dict_items([(5, 0.15)])\n",
      ">>> {5: 0.15} dict_values([0.15]) dict_items([(5, 0.15)])\n",
      ">>> {5: 0.15} dict_values([0.15]) dict_items([(5, 0.15)])\n",
      ">>> {5: 0.15} dict_values([0.15]) dict_items([(5, 0.15)])\n",
      ">>> {5: 0.15} dict_values([0.15]) dict_items([(5, 0.15)])\n",
      ">>> {5: 0.15} dict_values([0.15]) dict_items([(5, 0.15)])\n",
      "5/5 [==============================] - 8s 2s/step - loss: 9.9905e-04 - val_loss: 8.4092e-04\n",
      "Epoch 5/20\n",
      ">>> {5: 0.15} dict_values([0.15]) dict_items([(5, 0.15)])\n",
      ">>> {5: 0.15} dict_values([0.15]) dict_items([(5, 0.15)])\n",
      ">>> {5: 0.15} dict_values([0.15]) dict_items([(5, 0.15)])\n",
      ">>> {5: 0.15} dict_values([0.15]) dict_items([(5, 0.15)])\n",
      ">>> {5: 0.15} dict_values([0.15]) dict_items([(5, 0.15)])\n",
      ">>> {5: 0.15} dict_values([0.15]) dict_items([(5, 0.15)])\n",
      ">>> {5: 0.15} dict_values([0.15]) dict_items([(5, 0.15)])\n",
      ">>> {5: 0.15} dict_values([0.15]) dict_items([(5, 0.15)])\n",
      "1/5 [=====>........................] - ETA: 3s - loss: 0.0017>>> {5: 0.15} dict_values([0.15]) dict_items([(5, 0.15)])\n",
      ">>> {5: 0.15} dict_values([0.15]) dict_items([(5, 0.15)])\n",
      ">>> {5: 0.15} dict_values([0.15]) dict_items([(5, 0.15)])\n",
      ">>> {5: 0.15} dict_values([0.15]) dict_items([(5, 0.15)])\n",
      ">>> {5: 0.15} dict_values([0.15]) dict_items([(5, 0.15)])\n",
      ">>> {5: 0.15} dict_values([0.15]) dict_items([(5, 0.15)])\n",
      ">>> {5: 0.15} dict_values([0.15]) dict_items([(5, 0.15)])\n",
      ">>> {5: 0.15} dict_values([0.15]) dict_items([(5, 0.15)])\n",
      "2/5 [===========>..................] - ETA: 3s - loss: 0.0011>>> {5: 0.15} dict_values([0.15]) dict_items([(5, 0.15)])\n",
      ">>> {5: 0.15} dict_values([0.15]) dict_items([(5, 0.15)])\n",
      ">>> {5: 0.15} dict_values([0.15]) dict_items([(5, 0.15)])\n",
      ">>> {5: 0.15} dict_values([0.15]) dict_items([(5, 0.15)])\n",
      ">>> {5: 0.15} dict_values([0.15]) dict_items([(5, 0.15)])\n",
      ">>> {5: 0.15} dict_values([0.15]) dict_items([(5, 0.15)])\n",
      ">>> {5: 0.15} dict_values([0.15]) dict_items([(5, 0.15)])\n",
      ">>> {5: 0.15} dict_values([0.15]) dict_items([(5, 0.15)])\n",
      "3/5 [=================>............] - ETA: 2s - loss: 9.0075e-04>>> {5: 0.15} dict_values([0.15]) dict_items([(5, 0.15)])\n",
      ">>> {5: 0.15} dict_values([0.15]) dict_items([(5, 0.15)])\n",
      ">>> {5: 0.15} dict_values([0.15]) dict_items([(5, 0.15)])\n",
      ">>> {5: 0.15} dict_values([0.15]) dict_items([(5, 0.15)])\n",
      ">>> {5: 0.15} dict_values([0.15]) dict_items([(5, 0.15)])\n",
      ">>> {5: 0.15} dict_values([0.15]) dict_items([(5, 0.15)])\n",
      ">>> {5: 0.15} dict_values([0.15]) dict_items([(5, 0.15)])\n",
      ">>> {5: 0.15} dict_values([0.15]) dict_items([(5, 0.15)])\n",
      "4/5 [=======================>......] - ETA: 1s - loss: 9.6487e-04>>> {5: 0.15} dict_values([0.15]) dict_items([(5, 0.15)])\n",
      ">>> {5: 0.15} dict_values([0.15]) dict_items([(5, 0.15)])\n",
      ">>> {5: 0.15} dict_values([0.15]) dict_items([(5, 0.15)])\n",
      ">>> {5: 0.15} dict_values([0.15]) dict_items([(5, 0.15)])\n",
      ">>> {5: 0.15} dict_values([0.15]) dict_items([(5, 0.15)])\n",
      ">>> {5: 0.15} dict_values([0.15]) dict_items([(5, 0.15)])\n",
      ">>> {5: 0.15} dict_values([0.15]) dict_items([(5, 0.15)])\n",
      ">>> {5: 0.15} dict_values([0.15]) dict_items([(5, 0.15)])\n",
      "5/5 [==============================] - 8s 2s/step - loss: 8.7065e-04 - val_loss: 7.7972e-04\n",
      "Epoch 6/20\n",
      ">>> {5: 0.15} dict_values([0.15]) dict_items([(5, 0.15)])\n",
      ">>> {5: 0.15} dict_values([0.15]) dict_items([(5, 0.15)])\n",
      ">>> {5: 0.15} dict_values([0.15]) dict_items([(5, 0.15)])\n",
      ">>> {5: 0.15} dict_values([0.15]) dict_items([(5, 0.15)])\n",
      ">>> {5: 0.15} dict_values([0.15]) dict_items([(5, 0.15)])\n",
      ">>> {5: 0.15} dict_values([0.15]) dict_items([(5, 0.15)])\n",
      ">>> {5: 0.15} dict_values([0.15]) dict_items([(5, 0.15)])\n",
      ">>> {5: 0.15} dict_values([0.15]) dict_items([(5, 0.15)])\n",
      "1/5 [=====>........................] - ETA: 3s - loss: 7.8271e-04>>> {5: 0.15} dict_values([0.15]) dict_items([(5, 0.15)])\n",
      ">>> {5: 0.15} dict_values([0.15]) dict_items([(5, 0.15)])\n",
      ">>> {5: 0.15} dict_values([0.15]) dict_items([(5, 0.15)])\n",
      ">>> {5: 0.15} dict_values([0.15]) dict_items([(5, 0.15)])\n",
      ">>> {5: 0.15} dict_values([0.15]) dict_items([(5, 0.15)])\n",
      ">>> {5: 0.15} dict_values([0.15]) dict_items([(5, 0.15)])\n",
      ">>> {5: 0.15} dict_values([0.15]) dict_items([(5, 0.15)])\n",
      ">>> {5: 0.15} dict_values([0.15]) dict_items([(5, 0.15)])\n",
      "2/5 [===========>..................] - ETA: 2s - loss: 4.6909e-04>>> {5: 0.15} dict_values([0.15]) dict_items([(5, 0.15)])\n",
      ">>> {5: 0.15} dict_values([0.15]) dict_items([(5, 0.15)])\n",
      ">>> {5: 0.15} dict_values([0.15]) dict_items([(5, 0.15)])\n",
      ">>> {5: 0.15} dict_values([0.15]) dict_items([(5, 0.15)])\n",
      ">>> {5: 0.15} dict_values([0.15]) dict_items([(5, 0.15)])\n",
      ">>> {5: 0.15} dict_values([0.15]) dict_items([(5, 0.15)])\n",
      ">>> {5: 0.15} dict_values([0.15]) dict_items([(5, 0.15)])\n",
      ">>> {5: 0.15} dict_values([0.15]) dict_items([(5, 0.15)])\n",
      "3/5 [=================>............] - ETA: 1s - loss: 4.5915e-04>>> {5: 0.15} dict_values([0.15]) dict_items([(5, 0.15)])\n",
      ">>> {5: 0.15} dict_values([0.15]) dict_items([(5, 0.15)])\n",
      ">>> {5: 0.15} dict_values([0.15]) dict_items([(5, 0.15)])\n",
      ">>> {5: 0.15} dict_values([0.15]) dict_items([(5, 0.15)])\n",
      ">>> {5: 0.15} dict_values([0.15]) dict_items([(5, 0.15)])\n",
      ">>> {5: 0.15} dict_values([0.15]) dict_items([(5, 0.15)])\n",
      ">>> {5: 0.15} dict_values([0.15]) dict_items([(5, 0.15)])\n",
      ">>> {5: 0.15} dict_values([0.15]) dict_items([(5, 0.15)])\n",
      "4/5 [=======================>......] - ETA: 0s - loss: 4.6017e-04>>> {5: 0.15} dict_values([0.15]) dict_items([(5, 0.15)])\n",
      ">>> {5: 0.15} dict_values([0.15]) dict_items([(5, 0.15)])\n",
      ">>> {5: 0.15} dict_values([0.15]) dict_items([(5, 0.15)])\n",
      ">>> {5: 0.15} dict_values([0.15]) dict_items([(5, 0.15)])\n",
      ">>> {5: 0.15} dict_values([0.15]) dict_items([(5, 0.15)])\n",
      ">>> {5: 0.15} dict_values([0.15]) dict_items([(5, 0.15)])\n",
      ">>> {5: 0.15} dict_values([0.15]) dict_items([(5, 0.15)])\n",
      ">>> {5: 0.15} dict_values([0.15]) dict_items([(5, 0.15)])\n",
      "5/5 [==============================] - 6s 1s/step - loss: 4.1175e-04 - val_loss: 4.9655e-04\n",
      "Epoch 7/20\n",
      ">>> {5: 0.15} dict_values([0.15]) dict_items([(5, 0.15)])\n",
      ">>> {5: 0.15} dict_values([0.15]) dict_items([(5, 0.15)])\n",
      ">>> {5: 0.15} dict_values([0.15]) dict_items([(5, 0.15)])\n",
      ">>> {5: 0.15} dict_values([0.15]) dict_items([(5, 0.15)])\n",
      ">>> {5: 0.15} dict_values([0.15]) dict_items([(5, 0.15)])\n",
      ">>> {5: 0.15} dict_values([0.15]) dict_items([(5, 0.15)])\n",
      ">>> {5: 0.15} dict_values([0.15]) dict_items([(5, 0.15)])\n",
      ">>> {5: 0.15} dict_values([0.15]) dict_items([(5, 0.15)])\n",
      "1/5 [=====>........................] - ETA: 3s - loss: 7.7761e-04>>> {5: 0.15} dict_values([0.15]) dict_items([(5, 0.15)])\n",
      ">>> {5: 0.15} dict_values([0.15]) dict_items([(5, 0.15)])\n",
      ">>> {5: 0.15} dict_values([0.15]) dict_items([(5, 0.15)])\n",
      ">>> {5: 0.15} dict_values([0.15]) dict_items([(5, 0.15)])\n"
     ]
    },
    {
     "name": "stdout",
     "output_type": "stream",
     "text": [
      ">>> {5: 0.15} dict_values([0.15]) dict_items([(5, 0.15)])\n",
      ">>> {5: 0.15} dict_values([0.15]) dict_items([(5, 0.15)])\n",
      ">>> {5: 0.15} dict_values([0.15]) dict_items([(5, 0.15)])\n",
      "2/5 [===========>..................] - ETA: 2s - loss: 6.1395e-04>>> {5: 0.15} dict_values([0.15]) dict_items([(5, 0.15)])\n",
      ">>> {5: 0.15} dict_values([0.15]) dict_items([(5, 0.15)])\n",
      ">>> {5: 0.15} dict_values([0.15]) dict_items([(5, 0.15)])\n",
      ">>> {5: 0.15} dict_values([0.15]) dict_items([(5, 0.15)])\n",
      ">>> {5: 0.15} dict_values([0.15]) dict_items([(5, 0.15)])\n",
      ">>> {5: 0.15} dict_values([0.15]) dict_items([(5, 0.15)])\n",
      ">>> {5: 0.15} dict_values([0.15]) dict_items([(5, 0.15)])\n",
      ">>> {5: 0.15} dict_values([0.15]) dict_items([(5, 0.15)])\n",
      ">>> {5: 0.15} dict_values([0.15]) dict_items([(5, 0.15)])\n",
      "3/5 [=================>............] - ETA: 1s - loss: 7.4285e-04>>> {5: 0.15} dict_values([0.15]) dict_items([(5, 0.15)])\n",
      ">>> {5: 0.15} dict_values([0.15]) dict_items([(5, 0.15)])\n",
      ">>> {5: 0.15} dict_values([0.15]) dict_items([(5, 0.15)])\n",
      ">>> {5: 0.15} dict_values([0.15]) dict_items([(5, 0.15)])\n",
      ">>> {5: 0.15} dict_values([0.15]) dict_items([(5, 0.15)])\n",
      ">>> {5: 0.15} dict_values([0.15]) dict_items([(5, 0.15)])\n",
      ">>> {5: 0.15} dict_values([0.15]) dict_items([(5, 0.15)])\n",
      ">>> {5: 0.15} dict_values([0.15]) dict_items([(5, 0.15)])\n",
      "4/5 [=======================>......] - ETA: 0s - loss: 6.2379e-04>>> {5: 0.15} dict_values([0.15]) dict_items([(5, 0.15)])\n",
      ">>> {5: 0.15} dict_values([0.15]) dict_items([(5, 0.15)])\n",
      ">>> {5: 0.15} dict_values([0.15]) dict_items([(5, 0.15)])\n",
      ">>> {5: 0.15} dict_values([0.15]) dict_items([(5, 0.15)])\n",
      ">>> {5: 0.15} dict_values([0.15]) dict_items([(5, 0.15)])\n",
      ">>> {5: 0.15} dict_values([0.15]) dict_items([(5, 0.15)])\n",
      ">>> {5: 0.15} dict_values([0.15]) dict_items([(5, 0.15)])\n",
      ">>> {5: 0.15} dict_values([0.15]) dict_items([(5, 0.15)])\n",
      "5/5 [==============================] - 6s 1s/step - loss: 5.6173e-04 - val_loss: 3.5900e-04\n",
      "Epoch 8/20\n",
      ">>> {5: 0.15} dict_values([0.15]) dict_items([(5, 0.15)])\n",
      ">>> {5: 0.15} dict_values([0.15]) dict_items([(5, 0.15)])\n",
      ">>> {5: 0.15} dict_values([0.15]) dict_items([(5, 0.15)])\n",
      ">>> {5: 0.15} dict_values([0.15]) dict_items([(5, 0.15)])\n",
      ">>> {5: 0.15} dict_values([0.15]) dict_items([(5, 0.15)])\n",
      ">>> {5: 0.15} dict_values([0.15]) dict_items([(5, 0.15)])\n",
      ">>> {5: 0.15} dict_values([0.15]) dict_items([(5, 0.15)])\n",
      ">>> {5: 0.15} dict_values([0.15]) dict_items([(5, 0.15)])\n",
      "1/5 [=====>........................] - ETA: 3s - loss: 3.7824e-04>>> {5: 0.15} dict_values([0.15]) dict_items([(5, 0.15)])\n",
      ">>> {5: 0.15} dict_values([0.15]) dict_items([(5, 0.15)])\n",
      ">>> {5: 0.15} dict_values([0.15]) dict_items([(5, 0.15)])\n",
      ">>> {5: 0.15} dict_values([0.15]) dict_items([(5, 0.15)])\n",
      ">>> {5: 0.15} dict_values([0.15]) dict_items([(5, 0.15)])\n",
      ">>> {5: 0.15} dict_values([0.15]) dict_items([(5, 0.15)])\n",
      ">>> {5: 0.15} dict_values([0.15]) dict_items([(5, 0.15)])\n",
      ">>> {5: 0.15} dict_values([0.15]) dict_items([(5, 0.15)])\n",
      "2/5 [===========>..................] - ETA: 2s - loss: 5.3290e-04>>> {5: 0.15} dict_values([0.15]) dict_items([(5, 0.15)])\n",
      ">>> {5: 0.15} dict_values([0.15]) dict_items([(5, 0.15)])\n",
      ">>> {5: 0.15} dict_values([0.15]) dict_items([(5, 0.15)])\n",
      ">>> {5: 0.15} dict_values([0.15]) dict_items([(5, 0.15)])\n",
      ">>> {5: 0.15} dict_values([0.15]) dict_items([(5, 0.15)])\n",
      ">>> {5: 0.15} dict_values([0.15]) dict_items([(5, 0.15)])\n",
      ">>> {5: 0.15} dict_values([0.15]) dict_items([(5, 0.15)])\n",
      ">>> {5: 0.15} dict_values([0.15]) dict_items([(5, 0.15)])\n",
      "3/5 [=================>............] - ETA: 1s - loss: 6.9630e-04>>> {5: 0.15} dict_values([0.15]) dict_items([(5, 0.15)])\n",
      ">>> {5: 0.15} dict_values([0.15]) dict_items([(5, 0.15)])\n",
      ">>> {5: 0.15} dict_values([0.15]) dict_items([(5, 0.15)])\n",
      ">>> {5: 0.15} dict_values([0.15]) dict_items([(5, 0.15)])\n",
      ">>> {5: 0.15} dict_values([0.15]) dict_items([(5, 0.15)])\n",
      ">>> {5: 0.15} dict_values([0.15]) dict_items([(5, 0.15)])\n",
      ">>> {5: 0.15} dict_values([0.15]) dict_items([(5, 0.15)])\n",
      ">>> {5: 0.15} dict_values([0.15]) dict_items([(5, 0.15)])\n",
      "4/5 [=======================>......] - ETA: 0s - loss: 6.7173e-04>>> {5: 0.15} dict_values([0.15]) dict_items([(5, 0.15)])\n",
      ">>> {5: 0.15} dict_values([0.15]) dict_items([(5, 0.15)])\n",
      ">>> {5: 0.15} dict_values([0.15]) dict_items([(5, 0.15)])\n",
      ">>> {5: 0.15} dict_values([0.15]) dict_items([(5, 0.15)])\n",
      ">>> {5: 0.15} dict_values([0.15]) dict_items([(5, 0.15)])\n",
      ">>> {5: 0.15} dict_values([0.15]) dict_items([(5, 0.15)])\n",
      ">>> {5: 0.15} dict_values([0.15]) dict_items([(5, 0.15)])\n",
      ">>> {5: 0.15} dict_values([0.15]) dict_items([(5, 0.15)])\n",
      "5/5 [==============================] - 6s 1s/step - loss: 5.9400e-04 - val_loss: 2.8689e-04\n",
      "Epoch 9/20\n",
      ">>> {5: 0.15} dict_values([0.15]) dict_items([(5, 0.15)])\n",
      ">>> {5: 0.15} dict_values([0.15]) dict_items([(5, 0.15)])\n",
      ">>> {5: 0.15} dict_values([0.15]) dict_items([(5, 0.15)])\n",
      ">>> {5: 0.15} dict_values([0.15]) dict_items([(5, 0.15)])\n",
      ">>> {5: 0.15} dict_values([0.15]) dict_items([(5, 0.15)])\n",
      ">>> {5: 0.15} dict_values([0.15]) dict_items([(5, 0.15)])\n",
      ">>> {5: 0.15} dict_values([0.15]) dict_items([(5, 0.15)])\n",
      ">>> {5: 0.15} dict_values([0.15]) dict_items([(5, 0.15)])\n",
      "1/5 [=====>........................] - ETA: 3s - loss: 4.5861e-04>>> {5: 0.15} dict_values([0.15]) dict_items([(5, 0.15)])\n",
      ">>> {5: 0.15} dict_values([0.15]) dict_items([(5, 0.15)])\n",
      ">>> {5: 0.15} dict_values([0.15]) dict_items([(5, 0.15)])\n",
      ">>> {5: 0.15} dict_values([0.15]) dict_items([(5, 0.15)])\n",
      ">>> {5: 0.15} dict_values([0.15]) dict_items([(5, 0.15)])\n",
      ">>> {5: 0.15} dict_values([0.15]) dict_items([(5, 0.15)])\n",
      ">>> {5: 0.15} dict_values([0.15]) dict_items([(5, 0.15)])\n",
      ">>> {5: 0.15} dict_values([0.15]) dict_items([(5, 0.15)])\n",
      "2/5 [===========>..................] - ETA: 2s - loss: 3.3456e-04>>> {5: 0.15} dict_values([0.15]) dict_items([(5, 0.15)])\n",
      ">>> {5: 0.15} dict_values([0.15]) dict_items([(5, 0.15)])\n",
      ">>> {5: 0.15} dict_values([0.15]) dict_items([(5, 0.15)])\n",
      ">>> {5: 0.15} dict_values([0.15]) dict_items([(5, 0.15)])\n",
      ">>> {5: 0.15} dict_values([0.15]) dict_items([(5, 0.15)])\n",
      ">>> {5: 0.15} dict_values([0.15]) dict_items([(5, 0.15)])\n",
      ">>> {5: 0.15} dict_values([0.15]) dict_items([(5, 0.15)])\n",
      ">>> {5: 0.15} dict_values([0.15]) dict_items([(5, 0.15)])\n",
      "3/5 [=================>............] - ETA: 1s - loss: 2.8522e-04>>> {5: 0.15} dict_values([0.15]) dict_items([(5, 0.15)])\n",
      ">>> {5: 0.15} dict_values([0.15]) dict_items([(5, 0.15)])\n",
      ">>> {5: 0.15} dict_values([0.15]) dict_items([(5, 0.15)])\n",
      ">>> {5: 0.15} dict_values([0.15]) dict_items([(5, 0.15)])\n",
      ">>> {5: 0.15} dict_values([0.15]) dict_items([(5, 0.15)])\n",
      ">>> {5: 0.15} dict_values([0.15]) dict_items([(5, 0.15)])\n",
      ">>> {5: 0.15} dict_values([0.15]) dict_items([(5, 0.15)])\n",
      ">>> {5: 0.15} dict_values([0.15]) dict_items([(5, 0.15)])\n",
      "4/5 [=======================>......] - ETA: 0s - loss: 3.4442e-04>>> {5: 0.15} dict_values([0.15]) dict_items([(5, 0.15)])\n",
      ">>> {5: 0.15} dict_values([0.15]) dict_items([(5, 0.15)])\n",
      ">>> {5: 0.15} dict_values([0.15]) dict_items([(5, 0.15)])\n",
      ">>> {5: 0.15} dict_values([0.15]) dict_items([(5, 0.15)])\n",
      ">>> {5: 0.15} dict_values([0.15]) dict_items([(5, 0.15)])\n",
      ">>> {5: 0.15} dict_values([0.15]) dict_items([(5, 0.15)])\n",
      ">>> {5: 0.15} dict_values([0.15]) dict_items([(5, 0.15)])\n",
      ">>> {5: 0.15} dict_values([0.15]) dict_items([(5, 0.15)])\n",
      "5/5 [==============================] - 6s 1s/step - loss: 3.3084e-04 - val_loss: 4.7548e-04\n",
      "Epoch 10/20\n",
      ">>> {5: 0.15} dict_values([0.15]) dict_items([(5, 0.15)])\n",
      ">>> {5: 0.15} dict_values([0.15]) dict_items([(5, 0.15)])\n",
      ">>> {5: 0.15} dict_values([0.15]) dict_items([(5, 0.15)])\n",
      ">>> {5: 0.15} dict_values([0.15]) dict_items([(5, 0.15)])\n",
      ">>> {5: 0.15} dict_values([0.15]) dict_items([(5, 0.15)])\n",
      ">>> {5: 0.15} dict_values([0.15]) dict_items([(5, 0.15)])\n",
      ">>> {5: 0.15} dict_values([0.15]) dict_items([(5, 0.15)])\n",
      ">>> {5: 0.15} dict_values([0.15]) dict_items([(5, 0.15)])\n",
      "1/5 [=====>........................] - ETA: 3s - loss: 3.5836e-04>>> {5: 0.15} dict_values([0.15]) dict_items([(5, 0.15)])\n",
      ">>> {5: 0.15} dict_values([0.15]) dict_items([(5, 0.15)])\n",
      ">>> {5: 0.15} dict_values([0.15]) dict_items([(5, 0.15)])\n",
      ">>> {5: 0.15} dict_values([0.15]) dict_items([(5, 0.15)])\n",
      ">>> {5: 0.15} dict_values([0.15]) dict_items([(5, 0.15)])\n",
      ">>> {5: 0.15} dict_values([0.15]) dict_items([(5, 0.15)])\n",
      ">>> {5: 0.15} dict_values([0.15]) dict_items([(5, 0.15)])\n"
     ]
    },
    {
     "name": "stdout",
     "output_type": "stream",
     "text": [
      ">>> {5: 0.15} dict_values([0.15]) dict_items([(5, 0.15)])\n",
      "2/5 [===========>..................] - ETA: 2s - loss: 4.4597e-04>>> {5: 0.15} dict_values([0.15]) dict_items([(5, 0.15)])\n",
      ">>> {5: 0.15} dict_values([0.15]) dict_items([(5, 0.15)])\n",
      ">>> {5: 0.15} dict_values([0.15]) dict_items([(5, 0.15)])\n",
      ">>> {5: 0.15} dict_values([0.15]) dict_items([(5, 0.15)])\n",
      ">>> {5: 0.15} dict_values([0.15]) dict_items([(5, 0.15)])\n",
      ">>> {5: 0.15} dict_values([0.15]) dict_items([(5, 0.15)])\n",
      ">>> {5: 0.15} dict_values([0.15]) dict_items([(5, 0.15)])\n",
      ">>> {5: 0.15} dict_values([0.15]) dict_items([(5, 0.15)])\n",
      "3/5 [=================>............] - ETA: 1s - loss: 4.3822e-04>>> {5: 0.15} dict_values([0.15]) dict_items([(5, 0.15)])\n",
      ">>> {5: 0.15} dict_values([0.15]) dict_items([(5, 0.15)])\n",
      ">>> {5: 0.15} dict_values([0.15]) dict_items([(5, 0.15)])\n",
      ">>> {5: 0.15} dict_values([0.15]) dict_items([(5, 0.15)])\n",
      ">>> {5: 0.15} dict_values([0.15]) dict_items([(5, 0.15)])\n",
      ">>> {5: 0.15} dict_values([0.15]) dict_items([(5, 0.15)])\n",
      ">>> {5: 0.15} dict_values([0.15]) dict_items([(5, 0.15)])\n",
      ">>> {5: 0.15} dict_values([0.15]) dict_items([(5, 0.15)])\n",
      "4/5 [=======================>......] - ETA: 0s - loss: 4.5069e-04>>> {5: 0.15} dict_values([0.15]) dict_items([(5, 0.15)])\n",
      ">>> {5: 0.15} dict_values([0.15]) dict_items([(5, 0.15)])\n",
      ">>> {5: 0.15} dict_values([0.15]) dict_items([(5, 0.15)])\n",
      ">>> {5: 0.15} dict_values([0.15]) dict_items([(5, 0.15)])\n",
      ">>> {5: 0.15} dict_values([0.15]) dict_items([(5, 0.15)])\n",
      ">>> {5: 0.15} dict_values([0.15]) dict_items([(5, 0.15)])\n",
      ">>> {5: 0.15} dict_values([0.15]) dict_items([(5, 0.15)])\n",
      ">>> {5: 0.15} dict_values([0.15]) dict_items([(5, 0.15)])\n",
      "5/5 [==============================] - 6s 1s/step - loss: 4.2141e-04 - val_loss: 2.9635e-04\n",
      "Epoch 11/20\n",
      ">>> {5: 0.15} dict_values([0.15]) dict_items([(5, 0.15)])\n",
      ">>> {5: 0.15} dict_values([0.15]) dict_items([(5, 0.15)])\n",
      ">>> {5: 0.15} dict_values([0.15]) dict_items([(5, 0.15)])\n",
      ">>> {5: 0.15} dict_values([0.15]) dict_items([(5, 0.15)])\n",
      ">>> {5: 0.15} dict_values([0.15]) dict_items([(5, 0.15)])\n",
      ">>> {5: 0.15} dict_values([0.15]) dict_items([(5, 0.15)])\n",
      ">>> {5: 0.15} dict_values([0.15]) dict_items([(5, 0.15)])\n",
      ">>> {5: 0.15} dict_values([0.15]) dict_items([(5, 0.15)])\n",
      "1/5 [=====>........................] - ETA: 3s - loss: 2.8135e-04>>> {5: 0.15} dict_values([0.15]) dict_items([(5, 0.15)])\n",
      ">>> {5: 0.15} dict_values([0.15]) dict_items([(5, 0.15)])\n",
      ">>> {5: 0.15} dict_values([0.15]) dict_items([(5, 0.15)])\n",
      ">>> {5: 0.15} dict_values([0.15]) dict_items([(5, 0.15)])\n",
      ">>> {5: 0.15} dict_values([0.15]) dict_items([(5, 0.15)])\n",
      ">>> {5: 0.15} dict_values([0.15]) dict_items([(5, 0.15)])\n",
      ">>> {5: 0.15} dict_values([0.15]) dict_items([(5, 0.15)])\n",
      ">>> {5: 0.15} dict_values([0.15]) dict_items([(5, 0.15)])\n",
      "2/5 [===========>..................] - ETA: 2s - loss: 4.0806e-04>>> {5: 0.15} dict_values([0.15]) dict_items([(5, 0.15)])\n",
      ">>> {5: 0.15} dict_values([0.15]) dict_items([(5, 0.15)])\n",
      ">>> {5: 0.15} dict_values([0.15]) dict_items([(5, 0.15)])\n",
      ">>> {5: 0.15} dict_values([0.15]) dict_items([(5, 0.15)])\n",
      ">>> {5: 0.15} dict_values([0.15]) dict_items([(5, 0.15)])\n",
      ">>> {5: 0.15} dict_values([0.15]) dict_items([(5, 0.15)])\n",
      ">>> {5: 0.15} dict_values([0.15]) dict_items([(5, 0.15)])\n",
      ">>> {5: 0.15} dict_values([0.15]) dict_items([(5, 0.15)])\n",
      "3/5 [=================>............] - ETA: 1s - loss: 3.5604e-04>>> {5: 0.15} dict_values([0.15]) dict_items([(5, 0.15)])\n",
      ">>> {5: 0.15} dict_values([0.15]) dict_items([(5, 0.15)])\n",
      ">>> {5: 0.15} dict_values([0.15]) dict_items([(5, 0.15)])\n",
      ">>> {5: 0.15} dict_values([0.15]) dict_items([(5, 0.15)])\n",
      ">>> {5: 0.15} dict_values([0.15]) dict_items([(5, 0.15)])\n",
      ">>> {5: 0.15} dict_values([0.15]) dict_items([(5, 0.15)])\n",
      ">>> {5: 0.15} dict_values([0.15]) dict_items([(5, 0.15)])\n",
      ">>> {5: 0.15} dict_values([0.15]) dict_items([(5, 0.15)])\n",
      "4/5 [=======================>......] - ETA: 0s - loss: 3.0232e-04>>> {5: 0.15} dict_values([0.15]) dict_items([(5, 0.15)])\n",
      ">>> {5: 0.15} dict_values([0.15]) dict_items([(5, 0.15)])\n",
      ">>> {5: 0.15} dict_values([0.15]) dict_items([(5, 0.15)])\n",
      ">>> {5: 0.15} dict_values([0.15]) dict_items([(5, 0.15)])\n",
      ">>> {5: 0.15} dict_values([0.15]) dict_items([(5, 0.15)])\n",
      ">>> {5: 0.15} dict_values([0.15]) dict_items([(5, 0.15)])\n",
      ">>> {5: 0.15} dict_values([0.15]) dict_items([(5, 0.15)])\n",
      ">>> {5: 0.15} dict_values([0.15]) dict_items([(5, 0.15)])\n",
      "5/5 [==============================] - 6s 1s/step - loss: 2.6784e-04 - val_loss: 2.7384e-04\n",
      "Epoch 12/20\n",
      ">>> {5: 0.15} dict_values([0.15]) dict_items([(5, 0.15)])\n",
      ">>> {5: 0.15} dict_values([0.15]) dict_items([(5, 0.15)])\n",
      ">>> {5: 0.15} dict_values([0.15]) dict_items([(5, 0.15)])\n",
      ">>> {5: 0.15} dict_values([0.15]) dict_items([(5, 0.15)])\n",
      ">>> {5: 0.15} dict_values([0.15]) dict_items([(5, 0.15)])\n",
      ">>> {5: 0.15} dict_values([0.15]) dict_items([(5, 0.15)])\n",
      ">>> {5: 0.15} dict_values([0.15]) dict_items([(5, 0.15)])\n",
      ">>> {5: 0.15} dict_values([0.15]) dict_items([(5, 0.15)])\n",
      "1/5 [=====>........................] - ETA: 3s - loss: 4.3735e-04>>> {5: 0.15} dict_values([0.15]) dict_items([(5, 0.15)])\n",
      ">>> {5: 0.15} dict_values([0.15]) dict_items([(5, 0.15)])\n",
      ">>> {5: 0.15} dict_values([0.15]) dict_items([(5, 0.15)])\n",
      ">>> {5: 0.15} dict_values([0.15]) dict_items([(5, 0.15)])\n",
      ">>> {5: 0.15} dict_values([0.15]) dict_items([(5, 0.15)])\n",
      ">>> {5: 0.15} dict_values([0.15]) dict_items([(5, 0.15)])\n",
      ">>> {5: 0.15} dict_values([0.15]) dict_items([(5, 0.15)])\n",
      ">>> {5: 0.15} dict_values([0.15]) dict_items([(5, 0.15)])\n",
      "2/5 [===========>..................] - ETA: 2s - loss: 4.6657e-04>>> {5: 0.15} dict_values([0.15]) dict_items([(5, 0.15)])\n",
      ">>> {5: 0.15} dict_values([0.15]) dict_items([(5, 0.15)])\n",
      ">>> {5: 0.15} dict_values([0.15]) dict_items([(5, 0.15)])\n",
      ">>> {5: 0.15} dict_values([0.15]) dict_items([(5, 0.15)])\n",
      ">>> {5: 0.15} dict_values([0.15]) dict_items([(5, 0.15)])\n",
      ">>> {5: 0.15} dict_values([0.15]) dict_items([(5, 0.15)])\n",
      ">>> {5: 0.15} dict_values([0.15]) dict_items([(5, 0.15)])\n",
      "3/5 [=================>............] - ETA: 1s - loss: 3.6519e-04>>> {5: 0.15} dict_values([0.15]) dict_items([(5, 0.15)])\n",
      ">>> {5: 0.15} dict_values([0.15]) dict_items([(5, 0.15)])\n",
      ">>> {5: 0.15} dict_values([0.15]) dict_items([(5, 0.15)])\n",
      ">>> {5: 0.15} dict_values([0.15]) dict_items([(5, 0.15)])\n",
      ">>> {5: 0.15} dict_values([0.15]) dict_items([(5, 0.15)])\n",
      ">>> {5: 0.15} dict_values([0.15]) dict_items([(5, 0.15)])\n",
      ">>> {5: 0.15} dict_values([0.15]) dict_items([(5, 0.15)])\n",
      ">>> {5: 0.15} dict_values([0.15]) dict_items([(5, 0.15)])\n",
      ">>> {5: 0.15} dict_values([0.15]) dict_items([(5, 0.15)])\n",
      "4/5 [=======================>......] - ETA: 0s - loss: 3.1477e-04>>> {5: 0.15} dict_values([0.15]) dict_items([(5, 0.15)])\n",
      ">>> {5: 0.15} dict_values([0.15]) dict_items([(5, 0.15)])\n",
      ">>> {5: 0.15} dict_values([0.15]) dict_items([(5, 0.15)])\n",
      ">>> {5: 0.15} dict_values([0.15]) dict_items([(5, 0.15)])\n",
      ">>> {5: 0.15} dict_values([0.15]) dict_items([(5, 0.15)])\n",
      ">>> {5: 0.15} dict_values([0.15]) dict_items([(5, 0.15)])\n",
      ">>> {5: 0.15} dict_values([0.15]) dict_items([(5, 0.15)])\n",
      ">>> {5: 0.15} dict_values([0.15]) dict_items([(5, 0.15)])\n",
      "5/5 [==============================] - 6s 1s/step - loss: 2.6546e-04 - val_loss: 1.6751e-04\n",
      "Epoch 13/20\n",
      ">>> {5: 0.15} dict_values([0.15]) dict_items([(5, 0.15)])\n",
      ">>> {5: 0.15} dict_values([0.15]) dict_items([(5, 0.15)])\n",
      ">>> {5: 0.15} dict_values([0.15]) dict_items([(5, 0.15)])\n",
      ">>> {5: 0.15} dict_values([0.15]) dict_items([(5, 0.15)])\n",
      ">>> {5: 0.15} dict_values([0.15]) dict_items([(5, 0.15)])\n",
      ">>> {5: 0.15} dict_values([0.15]) dict_items([(5, 0.15)])\n",
      ">>> {5: 0.15} dict_values([0.15]) dict_items([(5, 0.15)])\n",
      ">>> {5: 0.15} dict_values([0.15]) dict_items([(5, 0.15)])\n",
      "1/5 [=====>........................] - ETA: 3s - loss: 1.7197e-04>>> {5: 0.15} dict_values([0.15]) dict_items([(5, 0.15)])\n",
      ">>> {5: 0.15} dict_values([0.15]) dict_items([(5, 0.15)])\n",
      ">>> {5: 0.15} dict_values([0.15]) dict_items([(5, 0.15)])\n",
      ">>> {5: 0.15} dict_values([0.15]) dict_items([(5, 0.15)])\n",
      ">>> {5: 0.15} dict_values([0.15]) dict_items([(5, 0.15)])\n",
      ">>> {5: 0.15} dict_values([0.15]) dict_items([(5, 0.15)])\n",
      ">>> {5: 0.15} dict_values([0.15]) dict_items([(5, 0.15)])\n",
      ">>> {5: 0.15} dict_values([0.15]) dict_items([(5, 0.15)])\n",
      "2/5 [===========>..................] - ETA: 2s - loss: 2.7114e-04>>> {5: 0.15} dict_values([0.15]) dict_items([(5, 0.15)])\n"
     ]
    },
    {
     "name": "stdout",
     "output_type": "stream",
     "text": [
      ">>> {5: 0.15} dict_values([0.15]) dict_items([(5, 0.15)])\n",
      ">>> {5: 0.15} dict_values([0.15]) dict_items([(5, 0.15)])\n",
      ">>> {5: 0.15} dict_values([0.15]) dict_items([(5, 0.15)])\n",
      ">>> {5: 0.15} dict_values([0.15]) dict_items([(5, 0.15)])\n",
      ">>> {5: 0.15} dict_values([0.15]) dict_items([(5, 0.15)])\n",
      ">>> {5: 0.15} dict_values([0.15]) dict_items([(5, 0.15)])\n",
      ">>> {5: 0.15} dict_values([0.15]) dict_items([(5, 0.15)])\n",
      "3/5 [=================>............] - ETA: 1s - loss: 3.2439e-04>>> {5: 0.15} dict_values([0.15]) dict_items([(5, 0.15)])\n",
      ">>> {5: 0.15} dict_values([0.15]) dict_items([(5, 0.15)])\n",
      ">>> {5: 0.15} dict_values([0.15]) dict_items([(5, 0.15)])\n",
      ">>> {5: 0.15} dict_values([0.15]) dict_items([(5, 0.15)])\n",
      ">>> {5: 0.15} dict_values([0.15]) dict_items([(5, 0.15)])\n",
      ">>> {5: 0.15} dict_values([0.15]) dict_items([(5, 0.15)])\n",
      ">>> {5: 0.15} dict_values([0.15]) dict_items([(5, 0.15)])\n",
      ">>> {5: 0.15} dict_values([0.15]) dict_items([(5, 0.15)])\n",
      "4/5 [=======================>......] - ETA: 0s - loss: 2.8593e-04>>> {5: 0.15} dict_values([0.15]) dict_items([(5, 0.15)])\n",
      ">>> {5: 0.15} dict_values([0.15]) dict_items([(5, 0.15)])\n",
      ">>> {5: 0.15} dict_values([0.15]) dict_items([(5, 0.15)])\n",
      ">>> {5: 0.15} dict_values([0.15]) dict_items([(5, 0.15)])\n",
      ">>> {5: 0.15} dict_values([0.15]) dict_items([(5, 0.15)])\n",
      ">>> {5: 0.15} dict_values([0.15]) dict_items([(5, 0.15)])\n",
      ">>> {5: 0.15} dict_values([0.15]) dict_items([(5, 0.15)])\n",
      ">>> {5: 0.15} dict_values([0.15]) dict_items([(5, 0.15)])\n",
      "5/5 [==============================] - 6s 1s/step - loss: 2.6441e-04 - val_loss: 8.1011e-05\n",
      "Epoch 14/20\n",
      ">>> {5: 0.15} dict_values([0.15]) dict_items([(5, 0.15)])\n",
      ">>> {5: 0.15} dict_values([0.15]) dict_items([(5, 0.15)])\n",
      ">>> {5: 0.15} dict_values([0.15]) dict_items([(5, 0.15)])\n",
      ">>> {5: 0.15} dict_values([0.15]) dict_items([(5, 0.15)])\n",
      ">>> {5: 0.15} dict_values([0.15]) dict_items([(5, 0.15)])\n",
      ">>> {5: 0.15} dict_values([0.15]) dict_items([(5, 0.15)])\n",
      ">>> {5: 0.15} dict_values([0.15]) dict_items([(5, 0.15)])\n",
      ">>> {5: 0.15} dict_values([0.15]) dict_items([(5, 0.15)])\n",
      "1/5 [=====>........................] - ETA: 3s - loss: 1.0299e-04>>> {5: 0.15} dict_values([0.15]) dict_items([(5, 0.15)])\n",
      ">>> {5: 0.15} dict_values([0.15]) dict_items([(5, 0.15)])\n",
      ">>> {5: 0.15} dict_values([0.15]) dict_items([(5, 0.15)])\n",
      ">>> {5: 0.15} dict_values([0.15]) dict_items([(5, 0.15)])\n",
      ">>> {5: 0.15} dict_values([0.15]) dict_items([(5, 0.15)])\n",
      ">>> {5: 0.15} dict_values([0.15]) dict_items([(5, 0.15)])\n",
      ">>> {5: 0.15} dict_values([0.15]) dict_items([(5, 0.15)])\n",
      ">>> {5: 0.15} dict_values([0.15]) dict_items([(5, 0.15)])\n",
      "2/5 [===========>..................] - ETA: 2s - loss: 1.0029e-04>>> {5: 0.15} dict_values([0.15]) dict_items([(5, 0.15)])\n",
      ">>> {5: 0.15} dict_values([0.15]) dict_items([(5, 0.15)])\n",
      ">>> {5: 0.15} dict_values([0.15]) dict_items([(5, 0.15)])\n",
      ">>> {5: 0.15} dict_values([0.15]) dict_items([(5, 0.15)])\n",
      ">>> {5: 0.15} dict_values([0.15]) dict_items([(5, 0.15)])\n",
      ">>> {5: 0.15} dict_values([0.15]) dict_items([(5, 0.15)])\n",
      ">>> {5: 0.15} dict_values([0.15]) dict_items([(5, 0.15)])\n",
      ">>> {5: 0.15} dict_values([0.15]) dict_items([(5, 0.15)])\n",
      "3/5 [=================>............] - ETA: 1s - loss: 1.2549e-04>>> {5: 0.15} dict_values([0.15]) dict_items([(5, 0.15)])\n",
      ">>> {5: 0.15} dict_values([0.15]) dict_items([(5, 0.15)])\n",
      ">>> {5: 0.15} dict_values([0.15]) dict_items([(5, 0.15)])\n",
      ">>> {5: 0.15} dict_values([0.15]) dict_items([(5, 0.15)])\n",
      ">>> {5: 0.15} dict_values([0.15]) dict_items([(5, 0.15)])\n",
      ">>> {5: 0.15} dict_values([0.15]) dict_items([(5, 0.15)])\n",
      ">>> {5: 0.15} dict_values([0.15]) dict_items([(5, 0.15)])\n",
      ">>> {5: 0.15} dict_values([0.15]) dict_items([(5, 0.15)])\n",
      "4/5 [=======================>......] - ETA: 0s - loss: 1.0147e-04>>> {5: 0.15} dict_values([0.15]) dict_items([(5, 0.15)])\n",
      ">>> {5: 0.15} dict_values([0.15]) dict_items([(5, 0.15)])\n",
      ">>> {5: 0.15} dict_values([0.15]) dict_items([(5, 0.15)])\n",
      ">>> {5: 0.15} dict_values([0.15]) dict_items([(5, 0.15)])\n",
      ">>> {5: 0.15} dict_values([0.15]) dict_items([(5, 0.15)])\n",
      ">>> {5: 0.15} dict_values([0.15]) dict_items([(5, 0.15)])\n",
      ">>> {5: 0.15} dict_values([0.15]) dict_items([(5, 0.15)])\n",
      ">>> {5: 0.15} dict_values([0.15]) dict_items([(5, 0.15)])\n",
      "5/5 [==============================] - 6s 1s/step - loss: 9.5062e-05 - val_loss: 1.2838e-04\n",
      "Epoch 15/20\n",
      ">>> {5: 0.15} dict_values([0.15]) dict_items([(5, 0.15)])\n",
      ">>> {5: 0.15} dict_values([0.15]) dict_items([(5, 0.15)])\n",
      ">>> {5: 0.15} dict_values([0.15]) dict_items([(5, 0.15)])\n",
      ">>> {5: 0.15} dict_values([0.15]) dict_items([(5, 0.15)])\n",
      ">>> {5: 0.15} dict_values([0.15]) dict_items([(5, 0.15)])\n",
      ">>> {5: 0.15} dict_values([0.15]) dict_items([(5, 0.15)])\n",
      ">>> {5: 0.15} dict_values([0.15]) dict_items([(5, 0.15)])\n",
      ">>> {5: 0.15} dict_values([0.15]) dict_items([(5, 0.15)])\n",
      "1/5 [=====>........................] - ETA: 3s - loss: 4.1236e-05>>> {5: 0.15} dict_values([0.15]) dict_items([(5, 0.15)])\n",
      ">>> {5: 0.15} dict_values([0.15]) dict_items([(5, 0.15)])\n",
      ">>> {5: 0.15} dict_values([0.15]) dict_items([(5, 0.15)])\n",
      ">>> {5: 0.15} dict_values([0.15]) dict_items([(5, 0.15)])\n",
      ">>> {5: 0.15} dict_values([0.15]) dict_items([(5, 0.15)])\n",
      ">>> {5: 0.15} dict_values([0.15]) dict_items([(5, 0.15)])\n",
      ">>> {5: 0.15} dict_values([0.15]) dict_items([(5, 0.15)])\n",
      ">>> {5: 0.15} dict_values([0.15]) dict_items([(5, 0.15)])\n",
      "2/5 [===========>..................] - ETA: 2s - loss: 7.7864e-05>>> {5: 0.15} dict_values([0.15]) dict_items([(5, 0.15)])\n",
      ">>> {5: 0.15} dict_values([0.15]) dict_items([(5, 0.15)])\n",
      ">>> {5: 0.15} dict_values([0.15]) dict_items([(5, 0.15)])\n",
      ">>> {5: 0.15} dict_values([0.15]) dict_items([(5, 0.15)])\n",
      ">>> {5: 0.15} dict_values([0.15]) dict_items([(5, 0.15)])\n",
      ">>> {5: 0.15} dict_values([0.15]) dict_items([(5, 0.15)])\n",
      ">>> {5: 0.15} dict_values([0.15]) dict_items([(5, 0.15)])\n",
      ">>> {5: 0.15} dict_values([0.15]) dict_items([(5, 0.15)])\n",
      "3/5 [=================>............] - ETA: 1s - loss: 1.4370e-04>>> {5: 0.15} dict_values([0.15]) dict_items([(5, 0.15)])\n",
      ">>> {5: 0.15} dict_values([0.15]) dict_items([(5, 0.15)])\n",
      ">>> {5: 0.15} dict_values([0.15]) dict_items([(5, 0.15)])\n",
      ">>> {5: 0.15} dict_values([0.15]) dict_items([(5, 0.15)])\n",
      ">>> {5: 0.15} dict_values([0.15]) dict_items([(5, 0.15)])\n",
      ">>> {5: 0.15} dict_values([0.15]) dict_items([(5, 0.15)])\n",
      ">>> {5: 0.15} dict_values([0.15]) dict_items([(5, 0.15)])\n",
      ">>> {5: 0.15} dict_values([0.15]) dict_items([(5, 0.15)])\n",
      "4/5 [=======================>......] - ETA: 0s - loss: 1.3162e-04>>> {5: 0.15} dict_values([0.15]) dict_items([(5, 0.15)])\n",
      ">>> {5: 0.15} dict_values([0.15]) dict_items([(5, 0.15)])\n",
      ">>> {5: 0.15} dict_values([0.15]) dict_items([(5, 0.15)])\n",
      ">>> {5: 0.15} dict_values([0.15]) dict_items([(5, 0.15)])\n",
      ">>> {5: 0.15} dict_values([0.15]) dict_items([(5, 0.15)])\n",
      ">>> {5: 0.15} dict_values([0.15]) dict_items([(5, 0.15)])\n",
      ">>> {5: 0.15} dict_values([0.15]) dict_items([(5, 0.15)])\n",
      ">>> {5: 0.15} dict_values([0.15]) dict_items([(5, 0.15)])\n",
      "5/5 [==============================] - 6s 1s/step - loss: 1.2664e-04 - val_loss: 1.0626e-04\n",
      "Epoch 16/20\n",
      ">>> {5: 0.15} dict_values([0.15]) dict_items([(5, 0.15)])\n",
      ">>> {5: 0.15} dict_values([0.15]) dict_items([(5, 0.15)])\n",
      ">>> {5: 0.15} dict_values([0.15]) dict_items([(5, 0.15)])\n",
      ">>> {5: 0.15} dict_values([0.15]) dict_items([(5, 0.15)])\n",
      ">>> {5: 0.15} dict_values([0.15]) dict_items([(5, 0.15)])\n",
      ">>> {5: 0.15} dict_values([0.15]) dict_items([(5, 0.15)])\n",
      ">>> {5: 0.15} dict_values([0.15]) dict_items([(5, 0.15)])\n",
      ">>> {5: 0.15} dict_values([0.15]) dict_items([(5, 0.15)])\n",
      "1/5 [=====>........................] - ETA: 3s - loss: 3.7429e-05>>> {5: 0.15} dict_values([0.15]) dict_items([(5, 0.15)])\n",
      ">>> {5: 0.15} dict_values([0.15]) dict_items([(5, 0.15)])\n",
      ">>> {5: 0.15} dict_values([0.15]) dict_items([(5, 0.15)])\n",
      ">>> {5: 0.15} dict_values([0.15]) dict_items([(5, 0.15)])\n",
      ">>> {5: 0.15} dict_values([0.15]) dict_items([(5, 0.15)])\n",
      ">>> {5: 0.15} dict_values([0.15]) dict_items([(5, 0.15)])\n",
      ">>> {5: 0.15} dict_values([0.15]) dict_items([(5, 0.15)])\n",
      ">>> {5: 0.15} dict_values([0.15]) dict_items([(5, 0.15)])\n",
      "2/5 [===========>..................] - ETA: 2s - loss: 5.4840e-05>>> {5: 0.15} dict_values([0.15]) dict_items([(5, 0.15)])\n",
      ">>> {5: 0.15} dict_values([0.15]) dict_items([(5, 0.15)])\n",
      ">>> {5: 0.15} dict_values([0.15]) dict_items([(5, 0.15)])\n",
      ">>> {5: 0.15} dict_values([0.15]) dict_items([(5, 0.15)])\n"
     ]
    },
    {
     "name": "stdout",
     "output_type": "stream",
     "text": [
      ">>> {5: 0.15} dict_values([0.15]) dict_items([(5, 0.15)])\n",
      ">>> {5: 0.15} dict_values([0.15]) dict_items([(5, 0.15)])\n",
      ">>> {5: 0.15} dict_values([0.15]) dict_items([(5, 0.15)])\n",
      ">>> {5: 0.15} dict_values([0.15]) dict_items([(5, 0.15)])\n",
      "3/5 [=================>............] - ETA: 1s - loss: 7.5747e-05>>> {5: 0.15} dict_values([0.15]) dict_items([(5, 0.15)])\n",
      ">>> {5: 0.15} dict_values([0.15]) dict_items([(5, 0.15)])\n",
      ">>> {5: 0.15} dict_values([0.15]) dict_items([(5, 0.15)])\n",
      ">>> {5: 0.15} dict_values([0.15]) dict_items([(5, 0.15)])\n",
      ">>> {5: 0.15} dict_values([0.15]) dict_items([(5, 0.15)])\n",
      ">>> {5: 0.15} dict_values([0.15]) dict_items([(5, 0.15)])\n",
      ">>> {5: 0.15} dict_values([0.15]) dict_items([(5, 0.15)])\n",
      ">>> {5: 0.15} dict_values([0.15]) dict_items([(5, 0.15)])\n",
      "4/5 [=======================>......] - ETA: 0s - loss: 6.7079e-05>>> {5: 0.15} dict_values([0.15]) dict_items([(5, 0.15)])\n",
      ">>> {5: 0.15} dict_values([0.15]) dict_items([(5, 0.15)])\n",
      ">>> {5: 0.15} dict_values([0.15]) dict_items([(5, 0.15)])\n",
      ">>> {5: 0.15} dict_values([0.15]) dict_items([(5, 0.15)])\n",
      ">>> {5: 0.15} dict_values([0.15]) dict_items([(5, 0.15)])\n",
      ">>> {5: 0.15} dict_values([0.15]) dict_items([(5, 0.15)])\n",
      ">>> {5: 0.15} dict_values([0.15]) dict_items([(5, 0.15)])\n",
      ">>> {5: 0.15} dict_values([0.15]) dict_items([(5, 0.15)])\n",
      "5/5 [==============================] - 6s 1s/step - loss: 5.7289e-05 - val_loss: 8.6758e-05\n",
      "Epoch 17/20\n",
      ">>> {5: 0.15} dict_values([0.15]) dict_items([(5, 0.15)])\n",
      ">>> {5: 0.15} dict_values([0.15]) dict_items([(5, 0.15)])\n",
      ">>> {5: 0.15} dict_values([0.15]) dict_items([(5, 0.15)])\n",
      ">>> {5: 0.15} dict_values([0.15]) dict_items([(5, 0.15)])\n",
      ">>> {5: 0.15} dict_values([0.15]) dict_items([(5, 0.15)])\n",
      ">>> {5: 0.15} dict_values([0.15]) dict_items([(5, 0.15)])\n",
      ">>> {5: 0.15} dict_values([0.15]) dict_items([(5, 0.15)])\n",
      ">>> {5: 0.15} dict_values([0.15]) dict_items([(5, 0.15)])\n",
      "1/5 [=====>........................] - ETA: 3s - loss: 1.6435e-04>>> {5: 0.15} dict_values([0.15]) dict_items([(5, 0.15)])\n",
      ">>> {5: 0.15} dict_values([0.15]) dict_items([(5, 0.15)])\n",
      ">>> {5: 0.15} dict_values([0.15]) dict_items([(5, 0.15)])\n",
      ">>> {5: 0.15} dict_values([0.15]) dict_items([(5, 0.15)])\n",
      ">>> {5: 0.15} dict_values([0.15]) dict_items([(5, 0.15)])\n",
      ">>> {5: 0.15} dict_values([0.15]) dict_items([(5, 0.15)])\n",
      ">>> {5: 0.15} dict_values([0.15]) dict_items([(5, 0.15)])\n",
      ">>> {5: 0.15} dict_values([0.15]) dict_items([(5, 0.15)])\n",
      "2/5 [===========>..................] - ETA: 2s - loss: 1.0397e-04>>> {5: 0.15} dict_values([0.15]) dict_items([(5, 0.15)])\n",
      ">>> {5: 0.15} dict_values([0.15]) dict_items([(5, 0.15)])\n",
      ">>> {5: 0.15} dict_values([0.15]) dict_items([(5, 0.15)])\n",
      ">>> {5: 0.15} dict_values([0.15]) dict_items([(5, 0.15)])\n",
      ">>> {5: 0.15} dict_values([0.15]) dict_items([(5, 0.15)])\n",
      ">>> {5: 0.15} dict_values([0.15]) dict_items([(5, 0.15)])\n",
      ">>> {5: 0.15} dict_values([0.15]) dict_items([(5, 0.15)])\n",
      "3/5 [=================>............] - ETA: 1s - loss: 1.1763e-04>>> {5: 0.15} dict_values([0.15]) dict_items([(5, 0.15)])\n",
      ">>> {5: 0.15} dict_values([0.15]) dict_items([(5, 0.15)])\n",
      ">>> {5: 0.15} dict_values([0.15]) dict_items([(5, 0.15)])\n",
      ">>> {5: 0.15} dict_values([0.15]) dict_items([(5, 0.15)])\n",
      ">>> {5: 0.15} dict_values([0.15]) dict_items([(5, 0.15)])\n",
      ">>> {5: 0.15} dict_values([0.15]) dict_items([(5, 0.15)])\n",
      ">>> {5: 0.15} dict_values([0.15]) dict_items([(5, 0.15)])\n",
      ">>> {5: 0.15} dict_values([0.15]) dict_items([(5, 0.15)])\n",
      ">>> {5: 0.15} dict_values([0.15]) dict_items([(5, 0.15)])\n",
      "4/5 [=======================>......] - ETA: 0s - loss: 1.1328e-04>>> {5: 0.15} dict_values([0.15]) dict_items([(5, 0.15)])\n",
      ">>> {5: 0.15} dict_values([0.15]) dict_items([(5, 0.15)])\n",
      ">>> {5: 0.15} dict_values([0.15]) dict_items([(5, 0.15)])\n",
      ">>> {5: 0.15} dict_values([0.15]) dict_items([(5, 0.15)])\n",
      ">>> {5: 0.15} dict_values([0.15]) dict_items([(5, 0.15)])\n",
      ">>> {5: 0.15} dict_values([0.15]) dict_items([(5, 0.15)])\n",
      ">>> {5: 0.15} dict_values([0.15]) dict_items([(5, 0.15)])\n",
      ">>> {5: 0.15} dict_values([0.15]) dict_items([(5, 0.15)])\n",
      "5/5 [==============================] - 6s 1s/step - loss: 1.4939e-04 - val_loss: 1.0206e-04\n",
      "Epoch 18/20\n",
      ">>> {5: 0.15} dict_values([0.15]) dict_items([(5, 0.15)])\n",
      ">>> {5: 0.15} dict_values([0.15]) dict_items([(5, 0.15)])\n",
      ">>> {5: 0.15} dict_values([0.15]) dict_items([(5, 0.15)])\n",
      ">>> {5: 0.15} dict_values([0.15]) dict_items([(5, 0.15)])\n",
      ">>> {5: 0.15} dict_values([0.15]) dict_items([(5, 0.15)])\n",
      ">>> {5: 0.15} dict_values([0.15]) dict_items([(5, 0.15)])\n",
      ">>> {5: 0.15} dict_values([0.15]) dict_items([(5, 0.15)])\n",
      ">>> {5: 0.15} dict_values([0.15]) dict_items([(5, 0.15)])\n",
      "1/5 [=====>........................] - ETA: 3s - loss: 2.3794e-04>>> {5: 0.15} dict_values([0.15]) dict_items([(5, 0.15)])\n",
      ">>> {5: 0.15} dict_values([0.15]) dict_items([(5, 0.15)])\n",
      ">>> {5: 0.15} dict_values([0.15]) dict_items([(5, 0.15)])\n",
      ">>> {5: 0.15} dict_values([0.15]) dict_items([(5, 0.15)])\n",
      ">>> {5: 0.15} dict_values([0.15]) dict_items([(5, 0.15)])\n",
      ">>> {5: 0.15} dict_values([0.15]) dict_items([(5, 0.15)])\n",
      ">>> {5: 0.15} dict_values([0.15]) dict_items([(5, 0.15)])\n",
      ">>> {5: 0.15} dict_values([0.15]) dict_items([(5, 0.15)])\n",
      "2/5 [===========>..................] - ETA: 2s - loss: 1.3736e-04>>> {5: 0.15} dict_values([0.15]) dict_items([(5, 0.15)])\n",
      ">>> {5: 0.15} dict_values([0.15]) dict_items([(5, 0.15)])\n",
      ">>> {5: 0.15} dict_values([0.15]) dict_items([(5, 0.15)])\n",
      ">>> {5: 0.15} dict_values([0.15]) dict_items([(5, 0.15)])\n",
      ">>> {5: 0.15} dict_values([0.15]) dict_items([(5, 0.15)])\n",
      ">>> {5: 0.15} dict_values([0.15]) dict_items([(5, 0.15)])\n",
      ">>> {5: 0.15} dict_values([0.15]) dict_items([(5, 0.15)])\n",
      ">>> {5: 0.15} dict_values([0.15]) dict_items([(5, 0.15)])\n",
      "3/5 [=================>............] - ETA: 1s - loss: 1.3220e-04>>> {5: 0.15} dict_values([0.15]) dict_items([(5, 0.15)])\n",
      ">>> {5: 0.15} dict_values([0.15]) dict_items([(5, 0.15)])\n",
      ">>> {5: 0.15} dict_values([0.15]) dict_items([(5, 0.15)])\n",
      ">>> {5: 0.15} dict_values([0.15]) dict_items([(5, 0.15)])\n",
      ">>> {5: 0.15} dict_values([0.15]) dict_items([(5, 0.15)])\n",
      ">>> {5: 0.15} dict_values([0.15]) dict_items([(5, 0.15)])\n",
      ">>> {5: 0.15} dict_values([0.15]) dict_items([(5, 0.15)])\n",
      ">>> {5: 0.15} dict_values([0.15]) dict_items([(5, 0.15)])\n",
      "4/5 [=======================>......] - ETA: 0s - loss: 1.1148e-04>>> {5: 0.15} dict_values([0.15]) dict_items([(5, 0.15)])\n",
      ">>> {5: 0.15} dict_values([0.15]) dict_items([(5, 0.15)])\n",
      ">>> {5: 0.15} dict_values([0.15]) dict_items([(5, 0.15)])\n",
      ">>> {5: 0.15} dict_values([0.15]) dict_items([(5, 0.15)])\n",
      ">>> {5: 0.15} dict_values([0.15]) dict_items([(5, 0.15)])\n",
      ">>> {5: 0.15} dict_values([0.15]) dict_items([(5, 0.15)])\n",
      ">>> {5: 0.15} dict_values([0.15]) dict_items([(5, 0.15)])\n",
      ">>> {5: 0.15} dict_values([0.15]) dict_items([(5, 0.15)])\n",
      "5/5 [==============================] - 6s 1s/step - loss: 9.5277e-05 - val_loss: 6.7996e-05\n",
      "Epoch 19/20\n",
      ">>> {5: 0.15} dict_values([0.15]) dict_items([(5, 0.15)])\n",
      ">>> {5: 0.15} dict_values([0.15]) dict_items([(5, 0.15)])\n",
      ">>> {5: 0.15} dict_values([0.15]) dict_items([(5, 0.15)])\n",
      ">>> {5: 0.15} dict_values([0.15]) dict_items([(5, 0.15)])\n",
      ">>> {5: 0.15} dict_values([0.15]) dict_items([(5, 0.15)])\n",
      ">>> {5: 0.15} dict_values([0.15]) dict_items([(5, 0.15)])\n",
      ">>> {5: 0.15} dict_values([0.15]) dict_items([(5, 0.15)])\n",
      ">>> {5: 0.15} dict_values([0.15]) dict_items([(5, 0.15)])\n",
      "1/5 [=====>........................] - ETA: 3s - loss: 1.7302e-05>>> {5: 0.15} dict_values([0.15]) dict_items([(5, 0.15)])\n",
      ">>> {5: 0.15} dict_values([0.15]) dict_items([(5, 0.15)])\n",
      ">>> {5: 0.15} dict_values([0.15]) dict_items([(5, 0.15)])\n",
      ">>> {5: 0.15} dict_values([0.15]) dict_items([(5, 0.15)])\n",
      ">>> {5: 0.15} dict_values([0.15]) dict_items([(5, 0.15)])\n",
      ">>> {5: 0.15} dict_values([0.15]) dict_items([(5, 0.15)])\n",
      ">>> {5: 0.15} dict_values([0.15]) dict_items([(5, 0.15)])\n",
      ">>> {5: 0.15} dict_values([0.15]) dict_items([(5, 0.15)])\n",
      "2/5 [===========>..................] - ETA: 2s - loss: 3.0206e-05>>> {5: 0.15} dict_values([0.15]) dict_items([(5, 0.15)])\n",
      ">>> {5: 0.15} dict_values([0.15]) dict_items([(5, 0.15)])\n",
      ">>> {5: 0.15} dict_values([0.15]) dict_items([(5, 0.15)])\n",
      ">>> {5: 0.15} dict_values([0.15]) dict_items([(5, 0.15)])\n",
      ">>> {5: 0.15} dict_values([0.15]) dict_items([(5, 0.15)])\n",
      ">>> {5: 0.15} dict_values([0.15]) dict_items([(5, 0.15)])\n",
      ">>> {5: 0.15} dict_values([0.15]) dict_items([(5, 0.15)])\n"
     ]
    },
    {
     "name": "stdout",
     "output_type": "stream",
     "text": [
      ">>> {5: 0.15} dict_values([0.15]) dict_items([(5, 0.15)])\n",
      "3/5 [=================>............] - ETA: 1s - loss: 4.5529e-05>>> {5: 0.15} dict_values([0.15]) dict_items([(5, 0.15)])\n",
      ">>> {5: 0.15} dict_values([0.15]) dict_items([(5, 0.15)])\n",
      ">>> {5: 0.15} dict_values([0.15]) dict_items([(5, 0.15)])\n",
      ">>> {5: 0.15} dict_values([0.15]) dict_items([(5, 0.15)])\n",
      ">>> {5: 0.15} dict_values([0.15]) dict_items([(5, 0.15)])\n",
      ">>> {5: 0.15} dict_values([0.15]) dict_items([(5, 0.15)])\n",
      ">>> {5: 0.15} dict_values([0.15]) dict_items([(5, 0.15)])\n",
      ">>> {5: 0.15} dict_values([0.15]) dict_items([(5, 0.15)])\n",
      "4/5 [=======================>......] - ETA: 0s - loss: 4.4568e-05>>> {5: 0.15} dict_values([0.15]) dict_items([(5, 0.15)])\n",
      ">>> {5: 0.15} dict_values([0.15]) dict_items([(5, 0.15)])\n",
      ">>> {5: 0.15} dict_values([0.15]) dict_items([(5, 0.15)])\n",
      ">>> {5: 0.15} dict_values([0.15]) dict_items([(5, 0.15)])\n",
      ">>> {5: 0.15} dict_values([0.15]) dict_items([(5, 0.15)])\n",
      ">>> {5: 0.15} dict_values([0.15]) dict_items([(5, 0.15)])\n",
      ">>> {5: 0.15} dict_values([0.15]) dict_items([(5, 0.15)])\n",
      ">>> {5: 0.15} dict_values([0.15]) dict_items([(5, 0.15)])\n",
      "5/5 [==============================] - 6s 1s/step - loss: 4.4886e-05 - val_loss: 4.5500e-05\n",
      "Epoch 20/20\n",
      ">>> {5: 0.15} dict_values([0.15]) dict_items([(5, 0.15)])\n",
      ">>> {5: 0.15} dict_values([0.15]) dict_items([(5, 0.15)])\n",
      ">>> {5: 0.15} dict_values([0.15]) dict_items([(5, 0.15)])\n",
      ">>> {5: 0.15} dict_values([0.15]) dict_items([(5, 0.15)])\n",
      ">>> {5: 0.15} dict_values([0.15]) dict_items([(5, 0.15)])\n",
      ">>> {5: 0.15} dict_values([0.15]) dict_items([(5, 0.15)])\n",
      ">>> {5: 0.15} dict_values([0.15]) dict_items([(5, 0.15)])\n",
      ">>> {5: 0.15} dict_values([0.15]) dict_items([(5, 0.15)])\n",
      "1/5 [=====>........................] - ETA: 3s - loss: 1.3328e-04>>> {5: 0.15} dict_values([0.15]) dict_items([(5, 0.15)])\n",
      ">>> {5: 0.15} dict_values([0.15]) dict_items([(5, 0.15)])\n",
      ">>> {5: 0.15} dict_values([0.15]) dict_items([(5, 0.15)])\n",
      ">>> {5: 0.15} dict_values([0.15]) dict_items([(5, 0.15)])\n",
      ">>> {5: 0.15} dict_values([0.15]) dict_items([(5, 0.15)])\n",
      ">>> {5: 0.15} dict_values([0.15]) dict_items([(5, 0.15)])\n",
      ">>> {5: 0.15} dict_values([0.15]) dict_items([(5, 0.15)])\n",
      ">>> {5: 0.15} dict_values([0.15]) dict_items([(5, 0.15)])\n",
      "2/5 [===========>..................] - ETA: 2s - loss: 1.0777e-04>>> {5: 0.15} dict_values([0.15]) dict_items([(5, 0.15)])\n",
      ">>> {5: 0.15} dict_values([0.15]) dict_items([(5, 0.15)])\n",
      ">>> {5: 0.15} dict_values([0.15]) dict_items([(5, 0.15)])\n",
      ">>> {5: 0.15} dict_values([0.15]) dict_items([(5, 0.15)])\n",
      ">>> {5: 0.15} dict_values([0.15]) dict_items([(5, 0.15)])\n",
      ">>> {5: 0.15} dict_values([0.15]) dict_items([(5, 0.15)])\n",
      ">>> {5: 0.15} dict_values([0.15]) dict_items([(5, 0.15)])\n",
      ">>> {5: 0.15} dict_values([0.15]) dict_items([(5, 0.15)])\n",
      "3/5 [=================>............] - ETA: 1s - loss: 9.3229e-05>>> {5: 0.15} dict_values([0.15]) dict_items([(5, 0.15)])\n",
      ">>> {5: 0.15} dict_values([0.15]) dict_items([(5, 0.15)])\n",
      ">>> {5: 0.15} dict_values([0.15]) dict_items([(5, 0.15)])\n",
      ">>> {5: 0.15} dict_values([0.15]) dict_items([(5, 0.15)])\n",
      ">>> {5: 0.15} dict_values([0.15]) dict_items([(5, 0.15)])\n",
      ">>> {5: 0.15} dict_values([0.15]) dict_items([(5, 0.15)])\n",
      ">>> {5: 0.15} dict_values([0.15]) dict_items([(5, 0.15)])\n",
      ">>> {5: 0.15} dict_values([0.15]) dict_items([(5, 0.15)])\n",
      "4/5 [=======================>......] - ETA: 0s - loss: 9.0005e-05>>> {5: 0.15} dict_values([0.15]) dict_items([(5, 0.15)])\n",
      ">>> {5: 0.15} dict_values([0.15]) dict_items([(5, 0.15)])\n",
      ">>> {5: 0.15} dict_values([0.15]) dict_items([(5, 0.15)])\n",
      ">>> {5: 0.15} dict_values([0.15]) dict_items([(5, 0.15)])\n",
      ">>> {5: 0.15} dict_values([0.15]) dict_items([(5, 0.15)])\n",
      ">>> {5: 0.15} dict_values([0.15]) dict_items([(5, 0.15)])\n",
      ">>> {5: 0.15} dict_values([0.15]) dict_items([(5, 0.15)])\n",
      ">>> {5: 0.15} dict_values([0.15]) dict_items([(5, 0.15)])\n",
      "5/5 [==============================] - 6s 1s/step - loss: 7.4407e-05 - val_loss: 4.4454e-05\n",
      "\n",
      "Loading network weights from 'weights_best.h5'.\n"
     ]
    },
    {
     "data": {
      "text/plain": [
       "<keras.callbacks.History at 0x7fc39c864910>"
      ]
     },
     "execution_count": 30,
     "metadata": {},
     "output_type": "execute_result"
    }
   ],
   "source": [
    "model.train(epochs=20)"
   ]
  },
  {
   "cell_type": "markdown",
   "metadata": {},
   "source": [
    "### Validation on synthetic data"
   ]
  },
  {
   "cell_type": "code",
   "execution_count": 31,
   "metadata": {},
   "outputs": [
    {
     "name": "stdout",
     "output_type": "stream",
     "text": [
      ">>> {5: 0.15} dict_values([0.15]) dict_items([(5, 0.15)])\n",
      ">>> {5: 0.15} dict_values([0.15]) dict_items([(5, 0.15)])\n",
      ">>> {5: 0.15} dict_values([0.15]) dict_items([(5, 0.15)])\n",
      ">>> {5: 0.15} dict_values([0.15]) dict_items([(5, 0.15)])\n",
      ">>> {5: 0.15} dict_values([0.15]) dict_items([(5, 0.15)])\n",
      ">>> {5: 0.15} dict_values([0.15]) dict_items([(5, 0.15)])\n",
      ">>> {5: 0.15} dict_values([0.15]) dict_items([(5, 0.15)])\n",
      ">>> {5: 0.15} dict_values([0.15]) dict_items([(5, 0.15)])\n",
      ">>> {5: 0.15} dict_values([0.15]) dict_items([(5, 0.15)])\n",
      ">>> {5: 0.15} dict_values([0.15]) dict_items([(5, 0.15)])\n",
      ">>> {5: 0.15} dict_values([0.15]) dict_items([(5, 0.15)])\n",
      ">>> {5: 0.15} dict_values([0.15]) dict_items([(5, 0.15)])\n",
      ">>> {5: 0.15} dict_values([0.15]) dict_items([(5, 0.15)])\n",
      ">>> {5: 0.15} dict_values([0.15]) dict_items([(5, 0.15)])\n",
      ">>> {5: 0.15} dict_values([0.15]) dict_items([(5, 0.15)])\n",
      ">>> {5: 0.15} dict_values([0.15]) dict_items([(5, 0.15)])\n",
      ">>> {5: 0.15} dict_values([0.15]) dict_items([(5, 0.15)])\n",
      ">>> {5: 0.15} dict_values([0.15]) dict_items([(5, 0.15)])\n",
      ">>> {5: 0.15} dict_values([0.15]) dict_items([(5, 0.15)])\n",
      ">>> {5: 0.15} dict_values([0.15]) dict_items([(5, 0.15)])\n",
      ">>> {5: 0.15} dict_values([0.15]) dict_items([(5, 0.15)])\n",
      ">>> {5: 0.15} dict_values([0.15]) dict_items([(5, 0.15)])\n",
      ">>> {5: 0.15} dict_values([0.15]) dict_items([(5, 0.15)])\n",
      ">>> {5: 0.15} dict_values([0.15]) dict_items([(5, 0.15)])\n",
      ">>> {5: 0.15} dict_values([0.15]) dict_items([(5, 0.15)])\n",
      ">>> {5: 0.15} dict_values([0.15]) dict_items([(5, 0.15)])\n",
      ">>> {5: 0.15} dict_values([0.15]) dict_items([(5, 0.15)])\n",
      ">>> {5: 0.15} dict_values([0.15]) dict_items([(5, 0.15)])\n",
      ">>> {5: 0.15} dict_values([0.15]) dict_items([(5, 0.15)])\n",
      ">>> {5: 0.15} dict_values([0.15]) dict_items([(5, 0.15)])\n",
      ">>> {5: 0.15} dict_values([0.15]) dict_items([(5, 0.15)])\n",
      ">>> {5: 0.15} dict_values([0.15]) dict_items([(5, 0.15)])\n",
      ">>> {5: 0.15} dict_values([0.15]) dict_items([(5, 0.15)])\n",
      ">>> {5: 0.15} dict_values([0.15]) dict_items([(5, 0.15)])\n",
      ">>> {5: 0.15} dict_values([0.15]) dict_items([(5, 0.15)])\n",
      ">>> {5: 0.15} dict_values([0.15]) dict_items([(5, 0.15)])\n",
      ">>> {5: 0.15} dict_values([0.15]) dict_items([(5, 0.15)])\n",
      ">>> {5: 0.15} dict_values([0.15]) dict_items([(5, 0.15)])\n",
      ">>> {5: 0.15} dict_values([0.15]) dict_items([(5, 0.15)])\n",
      ">>> {5: 0.15} dict_values([0.15]) dict_items([(5, 0.15)])\n",
      ">>> {5: 0.15} dict_values([0.15]) dict_items([(5, 0.15)])\n",
      ">>> {5: 0.15} dict_values([0.15]) dict_items([(5, 0.15)])\n",
      ">>> {5: 0.15} dict_values([0.15]) dict_items([(5, 0.15)])\n",
      ">>> {5: 0.15} dict_values([0.15]) dict_items([(5, 0.15)])\n",
      ">>> {5: 0.15} dict_values([0.15]) dict_items([(5, 0.15)])\n",
      ">>> {5: 0.15} dict_values([0.15]) dict_items([(5, 0.15)])\n",
      ">>> {5: 0.15} dict_values([0.15]) dict_items([(5, 0.15)])\n",
      ">>> {5: 0.15} dict_values([0.15]) dict_items([(5, 0.15)])\n",
      ">>> {5: 0.15} dict_values([0.15]) dict_items([(5, 0.15)])\n",
      ">>> {5: 0.15} dict_values([0.15]) dict_items([(5, 0.15)])\n"
     ]
    },
    {
     "data": {
      "text/plain": [
       "((50, 32, 32, 32, 1), (50, 1))"
      ]
     },
     "execution_count": 31,
     "metadata": {},
     "output_type": "execute_result"
    }
   ],
   "source": [
    "data = Data(\n",
    "    batch_size           = 50,\n",
    "    amplitude_ranges     = model.config.zernike_amplitude_ranges,\n",
    "    order                = model.config.zernike_order,\n",
    "    normed               = model.config.zernike_normed,\n",
    "    psf_shape            = model.config.psf_shape,\n",
    "    units                = model.config.psf_units,\n",
    "    na_detection         = model.config.psf_na_detection,\n",
    "    lam_detection        = model.config.psf_lam_detection,\n",
    "    n                    = model.config.psf_n,\n",
    "    noise_mean           = model.config.noise_mean,\n",
    "    noise_snr            = model.config.noise_snr,\n",
    "    noise_sigma          = model.config.noise_sigma,\n",
    "    noise_perlin_flag    = model.config.noise_perlin_flag,\n",
    "    crop_shape           = model.config.crop_shape,\n",
    "    jitter               = model.config.jitter,\n",
    "    phantom_params       = model.config.phantom_params,\n",
    "    planes               = model.config.planes,\n",
    ")\n",
    "psfs, amps = next(data.generator())\n",
    "psfs.shape, amps.shape"
   ]
  },
  {
   "cell_type": "code",
   "execution_count": 32,
   "metadata": {},
   "outputs": [
    {
     "name": "stderr",
     "output_type": "stream",
     "text": [
      "\r",
      "  0%|                                                    | 0/50 [00:00<?, ?it/s]"
     ]
    },
    {
     "name": "stdout",
     "output_type": "stream",
     "text": [
      "1/1 [==============================] - 0s 132ms/step\n"
     ]
    },
    {
     "name": "stderr",
     "output_type": "stream",
     "text": [
      "\r",
      "  2%|▉                                           | 1/50 [00:00<00:08,  6.03it/s]"
     ]
    },
    {
     "name": "stdout",
     "output_type": "stream",
     "text": [
      "1/1 [==============================] - 0s 37ms/step\n",
      "1/1 [==============================] - 0s 33ms/step\n"
     ]
    },
    {
     "name": "stderr",
     "output_type": "stream",
     "text": [
      "\r",
      "  6%|██▋                                         | 3/50 [00:00<00:06,  7.36it/s]"
     ]
    },
    {
     "name": "stdout",
     "output_type": "stream",
     "text": [
      "1/1 [==============================] - 0s 33ms/step\n",
      "1/1 [==============================] - 0s 32ms/step\n"
     ]
    },
    {
     "name": "stderr",
     "output_type": "stream",
     "text": [
      "\r",
      " 10%|████▍                                       | 5/50 [00:00<00:05,  8.77it/s]"
     ]
    },
    {
     "name": "stdout",
     "output_type": "stream",
     "text": [
      "1/1 [==============================] - 0s 33ms/step\n",
      "1/1 [==============================] - 0s 35ms/step\n"
     ]
    },
    {
     "name": "stderr",
     "output_type": "stream",
     "text": [
      "\r",
      " 14%|██████▏                                     | 7/50 [00:00<00:04, 10.11it/s]"
     ]
    },
    {
     "name": "stdout",
     "output_type": "stream",
     "text": [
      "1/1 [==============================] - 0s 34ms/step\n",
      "1/1 [==============================] - 0s 32ms/step\n"
     ]
    },
    {
     "name": "stderr",
     "output_type": "stream",
     "text": [
      "\r",
      " 18%|███████▉                                    | 9/50 [00:00<00:03, 11.39it/s]"
     ]
    },
    {
     "name": "stdout",
     "output_type": "stream",
     "text": [
      "1/1 [==============================] - 0s 35ms/step\n",
      "1/1 [==============================] - 0s 32ms/step\n"
     ]
    },
    {
     "name": "stderr",
     "output_type": "stream",
     "text": [
      "\r",
      " 22%|█████████▍                                 | 11/50 [00:00<00:03, 12.42it/s]"
     ]
    },
    {
     "name": "stdout",
     "output_type": "stream",
     "text": [
      "1/1 [==============================] - 0s 40ms/step\n",
      "1/1 [==============================] - 0s 36ms/step\n"
     ]
    },
    {
     "name": "stderr",
     "output_type": "stream",
     "text": [
      "\r",
      " 26%|███████████▏                               | 13/50 [00:00<00:02, 12.62it/s]"
     ]
    },
    {
     "name": "stdout",
     "output_type": "stream",
     "text": [
      "1/1 [==============================] - 0s 40ms/step\n",
      "1/1 [==============================] - 0s 34ms/step\n"
     ]
    },
    {
     "name": "stderr",
     "output_type": "stream",
     "text": [
      "\r",
      " 30%|████████████▉                              | 15/50 [00:01<00:02, 12.66it/s]"
     ]
    },
    {
     "name": "stdout",
     "output_type": "stream",
     "text": [
      "1/1 [==============================] - 0s 30ms/step\n",
      "1/1 [==============================] - 0s 33ms/step\n"
     ]
    },
    {
     "name": "stderr",
     "output_type": "stream",
     "text": [
      "\r",
      " 34%|██████████████▌                            | 17/50 [00:01<00:02, 13.58it/s]"
     ]
    },
    {
     "name": "stdout",
     "output_type": "stream",
     "text": [
      "1/1 [==============================] - 0s 32ms/step\n",
      "1/1 [==============================] - 0s 33ms/step\n"
     ]
    },
    {
     "name": "stderr",
     "output_type": "stream",
     "text": [
      "\r",
      " 38%|████████████████▎                          | 19/50 [00:01<00:02, 14.27it/s]"
     ]
    },
    {
     "name": "stdout",
     "output_type": "stream",
     "text": [
      "1/1 [==============================] - 0s 34ms/step\n",
      "1/1 [==============================] - 0s 34ms/step\n"
     ]
    },
    {
     "name": "stderr",
     "output_type": "stream",
     "text": [
      "\r",
      " 42%|██████████████████                         | 21/50 [00:01<00:02, 14.39it/s]"
     ]
    },
    {
     "name": "stdout",
     "output_type": "stream",
     "text": [
      "1/1 [==============================] - 0s 34ms/step\n",
      "1/1 [==============================] - 0s 36ms/step\n"
     ]
    },
    {
     "name": "stderr",
     "output_type": "stream",
     "text": [
      "\r",
      " 46%|███████████████████▊                       | 23/50 [00:01<00:01, 14.56it/s]"
     ]
    },
    {
     "name": "stdout",
     "output_type": "stream",
     "text": [
      "1/1 [==============================] - 0s 36ms/step\n",
      "1/1 [==============================] - 0s 36ms/step\n"
     ]
    },
    {
     "name": "stderr",
     "output_type": "stream",
     "text": [
      "\r",
      " 50%|█████████████████████▌                     | 25/50 [00:01<00:01, 14.41it/s]"
     ]
    },
    {
     "name": "stdout",
     "output_type": "stream",
     "text": [
      "1/1 [==============================] - 0s 38ms/step\n",
      "1/1 [==============================] - 0s 32ms/step\n"
     ]
    },
    {
     "name": "stderr",
     "output_type": "stream",
     "text": [
      "\r",
      " 54%|███████████████████████▏                   | 27/50 [00:01<00:01, 14.40it/s]"
     ]
    },
    {
     "name": "stdout",
     "output_type": "stream",
     "text": [
      "1/1 [==============================] - 0s 34ms/step\n",
      "1/1 [==============================] - 0s 36ms/step\n"
     ]
    },
    {
     "name": "stderr",
     "output_type": "stream",
     "text": [
      "\r",
      " 58%|████████████████████████▉                  | 29/50 [00:02<00:01, 14.54it/s]"
     ]
    },
    {
     "name": "stdout",
     "output_type": "stream",
     "text": [
      "1/1 [==============================] - 0s 38ms/step\n",
      "1/1 [==============================] - 0s 34ms/step\n"
     ]
    },
    {
     "name": "stderr",
     "output_type": "stream",
     "text": [
      "\r",
      " 62%|██████████████████████████▋                | 31/50 [00:02<00:01, 14.40it/s]"
     ]
    },
    {
     "name": "stdout",
     "output_type": "stream",
     "text": [
      "1/1 [==============================] - 0s 34ms/step\n",
      "1/1 [==============================] - 0s 36ms/step\n"
     ]
    },
    {
     "name": "stderr",
     "output_type": "stream",
     "text": [
      "\r",
      " 66%|████████████████████████████▍              | 33/50 [00:02<00:01, 14.34it/s]"
     ]
    },
    {
     "name": "stdout",
     "output_type": "stream",
     "text": [
      "1/1 [==============================] - 0s 35ms/step\n",
      "1/1 [==============================] - 0s 34ms/step\n"
     ]
    },
    {
     "name": "stderr",
     "output_type": "stream",
     "text": [
      "\r",
      " 70%|██████████████████████████████             | 35/50 [00:02<00:01, 14.48it/s]"
     ]
    },
    {
     "name": "stdout",
     "output_type": "stream",
     "text": [
      "1/1 [==============================] - 0s 35ms/step\n",
      "1/1 [==============================] - 0s 37ms/step\n"
     ]
    },
    {
     "name": "stderr",
     "output_type": "stream",
     "text": [
      "\r",
      " 74%|███████████████████████████████▊           | 37/50 [00:02<00:00, 14.47it/s]"
     ]
    },
    {
     "name": "stdout",
     "output_type": "stream",
     "text": [
      "1/1 [==============================] - 0s 35ms/step\n",
      "1/1 [==============================] - 0s 34ms/step\n"
     ]
    },
    {
     "name": "stderr",
     "output_type": "stream",
     "text": [
      "\r",
      " 78%|█████████████████████████████████▌         | 39/50 [00:02<00:00, 14.71it/s]"
     ]
    },
    {
     "name": "stdout",
     "output_type": "stream",
     "text": [
      "1/1 [==============================] - 0s 34ms/step\n",
      "1/1 [==============================] - 0s 34ms/step\n"
     ]
    },
    {
     "name": "stderr",
     "output_type": "stream",
     "text": [
      "\r",
      " 82%|███████████████████████████████████▎       | 41/50 [00:02<00:00, 14.86it/s]"
     ]
    },
    {
     "name": "stdout",
     "output_type": "stream",
     "text": [
      "1/1 [==============================] - 0s 33ms/step\n",
      "1/1 [==============================] - 0s 36ms/step\n"
     ]
    },
    {
     "name": "stderr",
     "output_type": "stream",
     "text": [
      "\r",
      " 86%|████████████████████████████████████▉      | 43/50 [00:03<00:00, 14.70it/s]"
     ]
    },
    {
     "name": "stdout",
     "output_type": "stream",
     "text": [
      "1/1 [==============================] - 0s 35ms/step\n",
      "1/1 [==============================] - 0s 35ms/step\n"
     ]
    },
    {
     "name": "stderr",
     "output_type": "stream",
     "text": [
      "\r",
      " 90%|██████████████████████████████████████▋    | 45/50 [00:03<00:00, 14.78it/s]"
     ]
    },
    {
     "name": "stdout",
     "output_type": "stream",
     "text": [
      "1/1 [==============================] - 0s 36ms/step\n",
      "1/1 [==============================] - 0s 34ms/step\n"
     ]
    },
    {
     "name": "stderr",
     "output_type": "stream",
     "text": [
      "\r",
      " 94%|████████████████████████████████████████▍  | 47/50 [00:03<00:00, 14.86it/s]"
     ]
    },
    {
     "name": "stdout",
     "output_type": "stream",
     "text": [
      "1/1 [==============================] - 0s 36ms/step\n",
      "1/1 [==============================] - 0s 35ms/step\n"
     ]
    },
    {
     "name": "stderr",
     "output_type": "stream",
     "text": [
      "\r",
      " 98%|██████████████████████████████████████████▏| 49/50 [00:03<00:00, 14.84it/s]"
     ]
    },
    {
     "name": "stdout",
     "output_type": "stream",
     "text": [
      "1/1 [==============================] - 0s 34ms/step\n"
     ]
    },
    {
     "name": "stderr",
     "output_type": "stream",
     "text": [
      "100%|███████████████████████████████████████████| 50/50 [00:03<00:00, 14.41it/s]\n"
     ]
    }
   ],
   "source": [
    "amps_pred = np.array([model.predict(psf) for psf in tqdm(psfs)])"
   ]
  },
  {
   "cell_type": "code",
   "execution_count": 33,
   "metadata": {},
   "outputs": [
    {
     "data": {
      "image/png": "[encoded data removed]",
      "text/plain": [
       "<Figure size 1000x800 with 1 Axes>"
      ]
     },
     "metadata": {},
     "output_type": "display_data"
    }
   ],
   "source": [
    "plt.figure(figsize=(10,8))\n",
    "ind = np.argsort(amps.ravel())\n",
    "plt.plot(amps[ind], marker='*', label='gt')\n",
    "plt.plot(amps_pred[ind], '--', marker='*', label='pred')\n",
    "# plt.hlines(-0.2, *plt.axis()[:2])\n",
    "# plt.hlines(+0.2, *plt.axis()[:2])\n",
    "plt.xlabel('test psf')\n",
    "plt.ylabel(f'amplitude {tuple(model.config.zernike_amplitude_ranges.keys())[0]}')\n",
    "plt.legend()\n",
    "None;"
   ]
  },
  {
   "cell_type": "code",
   "execution_count": null,
   "metadata": {},
   "outputs": [],
   "source": []
  }
 ],
 "metadata": {
  "kernelspec": {
   "display_name": "Python 3 (ipykernel)",
   "language": "python",
   "name": "python3"
  },
  "language_info": {
   "codemirror_mode": {
    "name": "ipython",
    "version": 3
   },
   "file_extension": ".py",
   "mimetype": "text/x-python",
   "name": "python",
   "nbconvert_exporter": "python",
   "pygments_lexer": "ipython3",
   "version": "3.7.4"
  }
 },
 "nbformat": 4,
 "nbformat_minor": 2
}
