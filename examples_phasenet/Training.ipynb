{
 "cells": [
  {
   "cell_type": "code",
   "execution_count": 1,
   "metadata": {},
   "outputs": [
    {
     "name": "stderr",
     "output_type": "stream",
     "text": [
      "2022-10-10 15:41:28.136150: I tensorflow/core/platform/cpu_feature_guard.cc:193] This TensorFlow binary is optimized with oneAPI Deep Neural Network Library (oneDNN) to use the following CPU instructions in performance-critical operations:  AVX2 FMA\n",
      "To enable them in other operations, rebuild TensorFlow with the appropriate compiler flags.\n",
      "2022-10-10 15:41:28.256379: W tensorflow/stream_executor/platform/default/dso_loader.cc:64] Could not load dynamic library 'libcudart.so.11.0'; dlerror: libcudart.so.11.0: cannot open shared object file: No such file or directory\n",
      "2022-10-10 15:41:28.256400: I tensorflow/stream_executor/cuda/cudart_stub.cc:29] Ignore above cudart dlerror if you do not have a GPU set up on your machine.\n",
      "2022-10-10 15:41:28.282617: E tensorflow/stream_executor/cuda/cuda_blas.cc:2981] Unable to register cuBLAS factory: Attempting to register factory for plugin cuBLAS when one has already been registered\n",
      "2022-10-10 15:41:28.838307: W tensorflow/stream_executor/platform/default/dso_loader.cc:64] Could not load dynamic library 'libnvinfer.so.7'; dlerror: libnvinfer.so.7: cannot open shared object file: No such file or directory\n",
      "2022-10-10 15:41:28.838395: W tensorflow/stream_executor/platform/default/dso_loader.cc:64] Could not load dynamic library 'libnvinfer_plugin.so.7'; dlerror: libnvinfer_plugin.so.7: cannot open shared object file: No such file or directory\n",
      "2022-10-10 15:41:28.838403: W tensorflow/compiler/tf2tensorrt/utils/py_utils.cc:38] TF-TRT Warning: Cannot dlopen some TensorRT libraries. If you would like to use Nvidia GPU with TensorRT, please make sure the missing libraries mentioned above are installed properly.\n"
     ]
    },
    {
     "name": "stdout",
     "output_type": "stream",
     "text": [
      "GPU Tools False\n"
     ]
    }
   ],
   "source": [
    "from phasenet.model import PhaseNet, Config, Data\n",
    "from tqdm import tqdm\n",
    "import matplotlib.pyplot as plt\n",
    "import numpy as np"
   ]
  },
  {
   "cell_type": "markdown",
   "metadata": {},
   "source": [
    "## The phasenet model can be trained using the following three steps: "
   ]
  },
  {
   "cell_type": "markdown",
   "metadata": {},
   "source": [
    "### STEP 1 : Setup the config"
   ]
  },
  {
   "cell_type": "code",
   "execution_count": 2,
   "metadata": {},
   "outputs": [
    {
     "data": {
      "text/markdown": [
       "### Configuration for phasenet models  \n",
       "\n",
       "`zernike_amplitude_ranges`:  dictionary or list, the values should either a scalar indicating the absolute magnitude\n",
       "            or a tuple with upper and lower bound, default is {'vertical coma': (-0.2,0.2)}  \n",
       "\n",
       "`zernike_order`:  string, Zernike nomenclature used when the amplitude ranges are given as a list, default is 'noll'  \n",
       "\n",
       "`zernike_normed`:  Boolean, whether the Zernike are normalized according, default is True  \n",
       "\n",
       "`net_architecture`:  convnet or resnet, default is convnet  \n",
       "\n",
       "`net_kernel_size`:  convolution kernel size, default is (3,3,3)  \n",
       "\n",
       "`net_pool_size`:  max pool kernel size, default is (1,2,2)  \n",
       "\n",
       "`net_activation`:  activation, default is 'tanh'  \n",
       "\n",
       "`net_padding`:  padding for convolution, default is 'same'  \n",
       "\n",
       "`psf_shape`:  tuple, shpae of the psf, default is (64,64,64)  \n",
       "\n",
       "`psf_units`:  tuple, voxel unit (z,y,x) in um, default is (0.1,0.1,0.1)  \n",
       "\n",
       "`psf_na_detection`:  scalar, numerical aperture default is 1.1  \n",
       "\n",
       "`psf_lam_detection`:  scalar, wavelength in um, default is 0.5  \n",
       "\n",
       "`psf_n`:  scalar, refractive index of immersion medium, default is 1.33  \n",
       "\n",
       "`noise_snr`:  scalar or tuple, signal to noise ratio  \n",
       "\n",
       "`noise_mean`:  scalar or tuple, mean background noise  \n",
       "\n",
       "`noise_sigma`:  scalar or tuple, sigma for Gaussian noise  \n",
       "\n",
       "`gaussian_blur_sigma`:  float, sigma for Gaussian blurring after adding noise, default is None  \n",
       "\n",
       "`phantom_params`:  dictionary, parameters for the chosen phantom, e.g. {'name':'sphere','radius':0.1}  \n",
       "\n",
       "`crop_shape`:  tuple, crop shape  \n",
       "\n",
       "`jitter`:  Boolean, randomly move the center point within a given limit, default is False  \n",
       "\n",
       "`max_jitter`:  tuple, maximum displacement for jitter, if None then it gets a default value  \n",
       "\n",
       "`train_loss`:  string, training loss, default is 'mse'  \n",
       "\n",
       "`train_epochs`:  integer, number of epochs for training, default is 400  \n",
       "\n",
       "`train_steps_per_epoch`:  integer, number of steps per epoch, default is 5  \n",
       "\n",
       "`train_learning_rate`:  scalar, leaning rate, default is 0.0003  \n",
       "\n",
       "`train_batch_size`:  integer, batch size for training the network, default is 8  \n",
       "\n",
       "`train_n_val`:  integer, number of validation data, default is 128  \n",
       "\n",
       "`train_tensorboard`:  boolean, create tensor-board, default is True  \n",
       "\n",
       "`planes`:  list, z planes with respect to center, if None then it takes all the planes\n",
       "\n",
       "    "
      ],
      "text/plain": [
       "<IPython.core.display.Markdown object>"
      ]
     },
     "metadata": {},
     "output_type": "display_data"
    }
   ],
   "source": [
    "from IPython.display import Markdown\n",
    "import re\n",
    "hlp = '### ' + Config.__doc__\n",
    "def _replace(s):\n",
    "    return f\"  \\n\\n`{s.group(1).strip()}`: \"\n",
    "hlp = re.sub(r'\\n\\s*:param([^:]+):', _replace, hlp)\n",
    "display(Markdown(hlp))"
   ]
  },
  {
   "cell_type": "markdown",
   "metadata": {},
   "source": [
    "### Important parameters\n",
    "\n",
    "- Please set the Zernike modes for your application (i.e. which modes in what ranges should the neural network be able to predict) by changing the parameter `zernike_amplitude_ranges`. Please modify `zernike_order` if the Zernikes are not provided in Noll index.\n",
    "\n",
    "- It is also important to set the PSF parameters (`psf_lam_detection`, `psf_units`, `psf_na_detection`, `psf_n`) to match the physical properties of the microscope being used.\n",
    "\n",
    "- It is also advisable to set the noise characteristics (`noise_mean`, `noise_sigma`, `noise_snr`) and phantom parameters (`phantom_params`) to match your image acquisition setup.\n",
    "\n",
    "- The training and network parameters (`train_*`, `net_*`) likely don't have to be changed."
   ]
  },
  {
   "cell_type": "code",
   "execution_count": 3,
   "metadata": {},
   "outputs": [],
   "source": [
    "#zern = [5,6,7,8,9,10,11,12,13,14,15] # for final training\n",
    "zern = [5]                            # for trial\n",
    "amp_range = [0.15]*len(zern)\n",
    "amps = dict(zip(zern, amp_range))"
   ]
  },
  {
   "cell_type": "code",
   "execution_count": 5,
   "metadata": {},
   "outputs": [
    {
     "data": {
      "text/plain": [
       "{'n_dim': 3,\n",
       " 'axes': 'ZYXC',\n",
       " 'n_channel_in': 1,\n",
       " 'n_channel_out': 1,\n",
       " 'train_checkpoint': 'weights_best.h5',\n",
       " 'train_checkpoint_last': 'weights_last.h5',\n",
       " 'train_checkpoint_epoch': 'weights_now.h5',\n",
       " 'zernike_amplitude_ranges': {5: 0.15},\n",
       " 'zernike_order': 'noll',\n",
       " 'zernike_normed': True,\n",
       " 'net_architecture': 'convnet',\n",
       " 'net_kernel_size': (3, 3, 3),\n",
       " 'net_pool_size': (1, 2, 2),\n",
       " 'net_activation': 'tanh',\n",
       " 'net_padding': 'same',\n",
       " 'psf_shape': (64, 64, 64),\n",
       " 'psf_units': (0.1, 0.086, 0.086),\n",
       " 'psf_na_detection': 1.1,\n",
       " 'psf_lam_detection': 0.515,\n",
       " 'psf_n': 1.33,\n",
       " 'noise_mean': None,\n",
       " 'noise_sigma': None,\n",
       " 'noise_snr': None,\n",
       " 'noise_perlin_flag': False,\n",
       " 'gaussian_blur_sigma': None,\n",
       " 'phantom_params': {'name': 'points', 'num': 1},\n",
       " 'crop_shape': (32, 32, 32),\n",
       " 'jitter': True,\n",
       " 'max_jitter': None,\n",
       " 'planes': None,\n",
       " 'train_loss': 'mse',\n",
       " 'train_epochs': 400,\n",
       " 'train_steps_per_epoch': 5,\n",
       " 'train_learning_rate': 0.0003,\n",
       " 'train_batch_size': 8,\n",
       " 'train_n_val': 128,\n",
       " 'train_tensorboard': True}"
      ]
     },
     "execution_count": 5,
     "metadata": {},
     "output_type": "execute_result"
    }
   ],
   "source": [
    "c = Config(zernike_amplitude_ranges=amps, psf_na_detection=1.1, psf_units=(0.1,0.086,0.086), psf_n=1.33, psf_lam_detection=0.515, noise_mean=None, noise_snr=None, noise_sigma=None)\n",
    "vars(c)"
   ]
  },
  {
   "cell_type": "markdown",
   "metadata": {},
   "source": [
    "## STEP 2 : Setup the model"
   ]
  },
  {
   "cell_type": "code",
   "execution_count": 6,
   "metadata": {},
   "outputs": [
    {
     "name": "stderr",
     "output_type": "stream",
     "text": [
      "2022-10-10 15:42:48.129685: W tensorflow/stream_executor/platform/default/dso_loader.cc:64] Could not load dynamic library 'libcuda.so.1'; dlerror: libcuda.so.1: cannot open shared object file: No such file or directory\n",
      "2022-10-10 15:42:48.129717: W tensorflow/stream_executor/cuda/cuda_driver.cc:263] failed call to cuInit: UNKNOWN ERROR (303)\n",
      "2022-10-10 15:42:48.129742: I tensorflow/stream_executor/cuda/cuda_diagnostics.cc:156] kernel driver does not appear to be running on this host (gurb): /proc/driver/nvidia/version does not exist\n",
      "2022-10-10 15:42:48.129971: I tensorflow/core/platform/cpu_feature_guard.cc:193] This TensorFlow binary is optimized with oneAPI Deep Neural Network Library (oneDNN) to use the following CPU instructions in performance-critical operations:  AVX2 FMA\n",
      "To enable them in other operations, rebuild TensorFlow with the appropriate compiler flags.\n"
     ]
    }
   ],
   "source": [
    "model = PhaseNet(config=c, name='test', basedir='models')"
   ]
  },
  {
   "cell_type": "markdown",
   "metadata": {},
   "source": [
    "## STEP 3: Train the model"
   ]
  },
  {
   "cell_type": "markdown",
   "metadata": {},
   "source": [
    "**Note**: We only set `epochs=20` here for a quick demo. Remove that to train the model properly (will take much longer)."
   ]
  },
  {
   "cell_type": "code",
   "execution_count": 7,
   "metadata": {
    "scrolled": true
   },
   "outputs": [
    {
     "name": "stderr",
     "output_type": "stream",
     "text": [
      "/users/srio/miniconda3/lib/python3.7/site-packages/keras/optimizers/optimizer_v2/adam.py:114: UserWarning: The `lr` argument is deprecated, use `learning_rate` instead.\n",
      "  super().__init__(name, **kwargs)\n",
      "/nobackup/gurb1/srio/OASYS1.2/phasenet/phasenet/psf.py:49: RuntimeWarning: invalid value encountered in sqrt\n",
      "  H = np.sqrt(1. * self.n ** 2 - KR3 ** 2 * lam_detection ** 2)\n",
      "/nobackup/gurb1/srio/OASYS1.2/phasenet/phasenet/model.py:458: UserWarning: `Model.fit_generator` is deprecated and will be removed in a future version. Please use `Model.fit`, which supports generators.\n",
      "  callbacks=self.callbacks, verbose=1)\n"
     ]
    },
    {
     "name": "stdout",
     "output_type": "stream",
     "text": [
      "Epoch 1/20\n",
      "5/5 [==============================] - 7s 1s/step - loss: 0.0157 - val_loss: 0.0038\n",
      "Epoch 2/20\n",
      "5/5 [==============================] - 5s 1s/step - loss: 0.0024 - val_loss: 0.0017\n",
      "Epoch 3/20\n",
      "5/5 [==============================] - 6s 1s/step - loss: 0.0017 - val_loss: 0.0013\n",
      "Epoch 4/20\n",
      "5/5 [==============================] - 6s 1s/step - loss: 0.0016 - val_loss: 7.7011e-04\n",
      "Epoch 5/20\n",
      "5/5 [==============================] - 6s 1s/step - loss: 8.7331e-04 - val_loss: 4.6097e-04\n",
      "Epoch 6/20\n",
      "5/5 [==============================] - 5s 1s/step - loss: 5.0280e-04 - val_loss: 6.4707e-04\n",
      "Epoch 7/20\n",
      "5/5 [==============================] - 6s 1s/step - loss: 3.7796e-04 - val_loss: 4.5370e-04\n",
      "Epoch 8/20\n",
      "5/5 [==============================] - 5s 1s/step - loss: 4.8727e-04 - val_loss: 4.6794e-04\n",
      "Epoch 9/20\n",
      "5/5 [==============================] - 6s 1s/step - loss: 5.2638e-04 - val_loss: 5.0992e-04\n",
      "Epoch 10/20\n",
      "5/5 [==============================] - 6s 1s/step - loss: 6.7462e-04 - val_loss: 4.4278e-04\n",
      "Epoch 11/20\n",
      "5/5 [==============================] - 6s 1s/step - loss: 5.3098e-04 - val_loss: 4.1329e-04\n",
      "Epoch 12/20\n",
      "5/5 [==============================] - 6s 1s/step - loss: 3.6296e-04 - val_loss: 1.9043e-04\n",
      "Epoch 13/20\n",
      "5/5 [==============================] - 6s 1s/step - loss: 1.9757e-04 - val_loss: 3.6735e-04\n",
      "Epoch 14/20\n",
      "5/5 [==============================] - 6s 1s/step - loss: 1.9084e-04 - val_loss: 1.4436e-04\n",
      "Epoch 15/20\n",
      "5/5 [==============================] - 6s 1s/step - loss: 1.3238e-04 - val_loss: 8.7801e-05\n",
      "Epoch 16/20\n",
      "5/5 [==============================] - 6s 1s/step - loss: 8.2983e-05 - val_loss: 1.1790e-04\n",
      "Epoch 17/20\n",
      "5/5 [==============================] - 6s 1s/step - loss: 1.0231e-04 - val_loss: 8.2862e-05\n",
      "Epoch 18/20\n",
      "5/5 [==============================] - 6s 1s/step - loss: 9.6969e-05 - val_loss: 6.5228e-05\n",
      "Epoch 19/20\n",
      "5/5 [==============================] - 6s 1s/step - loss: 4.6991e-05 - val_loss: 6.9092e-05\n",
      "Epoch 20/20\n",
      "5/5 [==============================] - 6s 1s/step - loss: 4.2065e-05 - val_loss: 4.6504e-05\n",
      "\n",
      "Loading network weights from 'weights_best.h5'.\n"
     ]
    },
    {
     "data": {
      "text/plain": [
       "<keras.callbacks.History at 0x7face5da0f90>"
      ]
     },
     "execution_count": 7,
     "metadata": {},
     "output_type": "execute_result"
    }
   ],
   "source": [
    "model.train(epochs=20)"
   ]
  },
  {
   "cell_type": "markdown",
   "metadata": {},
   "source": [
    "### Validation on synthetic data"
   ]
  },
  {
   "cell_type": "code",
   "execution_count": 8,
   "metadata": {},
   "outputs": [
    {
     "data": {
      "text/plain": [
       "((50, 32, 32, 32, 1), (50, 1))"
      ]
     },
     "execution_count": 8,
     "metadata": {},
     "output_type": "execute_result"
    }
   ],
   "source": [
    "data = Data(\n",
    "    batch_size           = 50,\n",
    "    amplitude_ranges     = model.config.zernike_amplitude_ranges,\n",
    "    order                = model.config.zernike_order,\n",
    "    normed               = model.config.zernike_normed,\n",
    "    psf_shape            = model.config.psf_shape,\n",
    "    units                = model.config.psf_units,\n",
    "    na_detection         = model.config.psf_na_detection,\n",
    "    lam_detection        = model.config.psf_lam_detection,\n",
    "    n                    = model.config.psf_n,\n",
    "    noise_mean           = model.config.noise_mean,\n",
    "    noise_snr            = model.config.noise_snr,\n",
    "    noise_sigma          = model.config.noise_sigma,\n",
    "    noise_perlin_flag    = model.config.noise_perlin_flag,\n",
    "    crop_shape           = model.config.crop_shape,\n",
    "    jitter               = model.config.jitter,\n",
    "    phantom_params       = model.config.phantom_params,\n",
    "    planes               = model.config.planes,\n",
    ")\n",
    "psfs, amps = next(data.generator())\n",
    "psfs.shape, amps.shape"
   ]
  },
  {
   "cell_type": "code",
   "execution_count": 20,
   "metadata": {},
   "outputs": [
    {
     "name": "stderr",
     "output_type": "stream",
     "text": [
      "100%|██████████| 50/50 [00:03<00:00, 14.49it/s]\n"
     ]
    }
   ],
   "source": [
    "amps_pred = np.array([model.predict(psf) for psf in tqdm(psfs)])"
   ]
  },
  {
   "cell_type": "code",
   "execution_count": 9,
   "metadata": {},
   "outputs": [
    {
     "ename": "NameError",
     "evalue": "name 'amps_pred' is not defined",
     "output_type": "error",
     "traceback": [
      "\u001b[0;31m---------------------------------------------------------------------------\u001b[0m",
      "\u001b[0;31mNameError\u001b[0m                                 Traceback (most recent call last)",
      "\u001b[0;32m/tmp/ipykernel_1025186/2171411166.py\u001b[0m in \u001b[0;36m<module>\u001b[0;34m\u001b[0m\n\u001b[1;32m      2\u001b[0m \u001b[0mind\u001b[0m \u001b[0;34m=\u001b[0m \u001b[0mnp\u001b[0m\u001b[0;34m.\u001b[0m\u001b[0margsort\u001b[0m\u001b[0;34m(\u001b[0m\u001b[0mamps\u001b[0m\u001b[0;34m.\u001b[0m\u001b[0mravel\u001b[0m\u001b[0;34m(\u001b[0m\u001b[0;34m)\u001b[0m\u001b[0;34m)\u001b[0m\u001b[0;34m\u001b[0m\u001b[0;34m\u001b[0m\u001b[0m\n\u001b[1;32m      3\u001b[0m \u001b[0mplt\u001b[0m\u001b[0;34m.\u001b[0m\u001b[0mplot\u001b[0m\u001b[0;34m(\u001b[0m\u001b[0mamps\u001b[0m\u001b[0;34m[\u001b[0m\u001b[0mind\u001b[0m\u001b[0;34m]\u001b[0m\u001b[0;34m,\u001b[0m \u001b[0mmarker\u001b[0m\u001b[0;34m=\u001b[0m\u001b[0;34m'*'\u001b[0m\u001b[0;34m,\u001b[0m \u001b[0mlabel\u001b[0m\u001b[0;34m=\u001b[0m\u001b[0;34m'gt'\u001b[0m\u001b[0;34m)\u001b[0m\u001b[0;34m\u001b[0m\u001b[0;34m\u001b[0m\u001b[0m\n\u001b[0;32m----> 4\u001b[0;31m \u001b[0mplt\u001b[0m\u001b[0;34m.\u001b[0m\u001b[0mplot\u001b[0m\u001b[0;34m(\u001b[0m\u001b[0mamps_pred\u001b[0m\u001b[0;34m[\u001b[0m\u001b[0mind\u001b[0m\u001b[0;34m]\u001b[0m\u001b[0;34m,\u001b[0m \u001b[0;34m'--'\u001b[0m\u001b[0;34m,\u001b[0m \u001b[0mmarker\u001b[0m\u001b[0;34m=\u001b[0m\u001b[0;34m'*'\u001b[0m\u001b[0;34m,\u001b[0m \u001b[0mlabel\u001b[0m\u001b[0;34m=\u001b[0m\u001b[0;34m'pred'\u001b[0m\u001b[0;34m)\u001b[0m\u001b[0;34m\u001b[0m\u001b[0;34m\u001b[0m\u001b[0m\n\u001b[0m\u001b[1;32m      5\u001b[0m \u001b[0;31m# plt.hlines(-0.2, *plt.axis()[:2])\u001b[0m\u001b[0;34m\u001b[0m\u001b[0;34m\u001b[0m\u001b[0;34m\u001b[0m\u001b[0m\n\u001b[1;32m      6\u001b[0m \u001b[0;31m# plt.hlines(+0.2, *plt.axis()[:2])\u001b[0m\u001b[0;34m\u001b[0m\u001b[0;34m\u001b[0m\u001b[0;34m\u001b[0m\u001b[0m\n",
      "\u001b[0;31mNameError\u001b[0m: name 'amps_pred' is not defined"
     ]
    },
    {
     "data": {
      "image/png": "[encoded data removed]",
      "text/plain": [
       "<Figure size 1000x800 with 1 Axes>"
      ]
     },
     "metadata": {},
     "output_type": "display_data"
    }
   ],
   "source": [
    "plt.figure(figsize=(10,8))\n",
    "ind = np.argsort(amps.ravel())\n",
    "plt.plot(amps[ind], marker='*', label='gt')\n",
    "plt.plot(amps_pred[ind], '--', marker='*', label='pred')\n",
    "# plt.hlines(-0.2, *plt.axis()[:2])\n",
    "# plt.hlines(+0.2, *plt.axis()[:2])\n",
    "plt.xlabel('test psf')\n",
    "plt.ylabel(f'amplitude {tuple(model.config.zernike_amplitude_ranges.keys())[0]}')\n",
    "plt.legend()\n",
    "None;"
   ]
  },
  {
   "cell_type": "code",
   "execution_count": null,
   "metadata": {},
   "outputs": [],
   "source": []
  }
 ],
 "metadata": {
  "kernelspec": {
   "display_name": "Python 3 (ipykernel)",
   "language": "python",
   "name": "python3"
  },
  "language_info": {
   "codemirror_mode": {
    "name": "ipython",
    "version": 3
   },
   "file_extension": ".py",
   "mimetype": "text/x-python",
   "name": "python",
   "nbconvert_exporter": "python",
   "pygments_lexer": "ipython3",
   "version": "3.7.4"
  }
 },
 "nbformat": 4,
 "nbformat_minor": 2
}
